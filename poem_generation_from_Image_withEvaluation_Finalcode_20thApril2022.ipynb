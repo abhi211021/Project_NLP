{
 "cells": [
  {
   "cell_type": "code",
   "execution_count": 298,
   "metadata": {},
   "outputs": [],
   "source": [
    "import warnings\n",
    "warnings.filterwarnings(\"ignore\", category=FutureWarning)"
   ]
  },
  {
   "cell_type": "code",
   "execution_count": 299,
   "metadata": {},
   "outputs": [
    {
     "data": {
      "application/vnd.jupyter.widget-view+json": {
       "model_id": "3a83b15af52b41e08c6170bb84f24f68",
       "version_major": 2,
       "version_minor": 0
      },
      "text/plain": [
       "|          | 0/? [00:00<?, ?it/s]"
      ]
     },
     "metadata": {},
     "output_type": "display_data"
    }
   ],
   "source": [
    "import string\n",
    "import numpy as np\n",
    "from PIL import Image\n",
    "import os\n",
    "from pickle import dump, load\n",
    "import numpy as np\n",
    "from keras.applications.xception import Xception, preprocess_input\n",
    "from keras.preprocessing.image import load_img, img_to_array\n",
    "from keras.preprocessing.text import Tokenizer\n",
    "# example of loading the resnet50 model\n",
    "from tensorflow.keras.applications.resnet50 import ResNet50\n",
    "from keras.preprocessing.sequence import pad_sequences\n",
    "from tensorflow.keras.utils import to_categorical\n",
    "from keras.layers.merge import add\n",
    "from keras.models import Model, load_model\n",
    "from keras.applications.inception_v3 import InceptionV3\n",
    "from keras.layers import Input, Dense, LSTM, Embedding, Dropout\n",
    "from keras.applications.vgg19 import VGG19\n",
    "# small library for seeing the progress of loops.\n",
    "from tqdm.notebook import tqdm\n",
    "tqdm().pandas()"
   ]
  },
  {
   "cell_type": "code",
   "execution_count": 300,
   "metadata": {},
   "outputs": [],
   "source": [
    "# Loading a text file into memory\n",
    "def load_doc(filename):\n",
    "    # Opening the file as read only\n",
    "    file = open(filename, 'r')\n",
    "    text = file.read()\n",
    "    file.close()\n",
    "    return text"
   ]
  },
  {
   "cell_type": "code",
   "execution_count": 301,
   "metadata": {},
   "outputs": [],
   "source": [
    "# get all imgs with their captions\n",
    "def all_img_captions(filename):\n",
    "    file = load_doc(filename)\n",
    "    captions = file.split('\\n')\n",
    "    descriptions ={}\n",
    "    for caption in captions[:-1]:\n",
    "        img, caption = caption.split('\\t')\n",
    "        if img[:-2] not in descriptions:\n",
    "            descriptions[img[:-2]] = [ caption ]\n",
    "        else:\n",
    "            descriptions[img[:-2]].append(caption)\n",
    "    return descriptions"
   ]
  },
  {
   "cell_type": "code",
   "execution_count": 302,
   "metadata": {},
   "outputs": [],
   "source": [
    "#Data cleaning- lower casing, removing puntuations and words containing numbers\n",
    "def cleaning_text(captions):\n",
    "    table = str.maketrans('','',string.punctuation)\n",
    "    for img,caps in captions.items():\n",
    "        for i,img_caption in enumerate(caps):\n",
    "            img_caption.replace(\"-\",\" \")\n",
    "            desc = img_caption.split()\n",
    "            #converts to lowercase\n",
    "            desc = [word.lower() for word in desc]\n",
    "            #remove punctuation from each token\n",
    "            desc = [word.translate(table) for word in desc]\n",
    "            #remove hanging 's and a \n",
    "            desc = [word for word in desc if(len(word)>1)]\n",
    "            #remove tokens with numbers in them\n",
    "            desc = [word for word in desc if(word.isalpha())]\n",
    "            #convert back to string\n",
    "            img_caption = ' '.join(desc)\n",
    "            captions[img][i]= img_caption\n",
    "    return captions"
   ]
  },
  {
   "cell_type": "code",
   "execution_count": 303,
   "metadata": {},
   "outputs": [],
   "source": [
    "def text_vocabulary(descriptions):\n",
    "    # build vocabulary of all unique words\n",
    "    vocab = set()\n",
    "    for key in descriptions.keys():\n",
    "        [vocab.update(d.split()) for d in descriptions[key]]\n",
    "    return vocab"
   ]
  },
  {
   "cell_type": "code",
   "execution_count": 304,
   "metadata": {},
   "outputs": [],
   "source": [
    "#All descriptions in one file \n",
    "def save_descriptions(descriptions, filename):\n",
    "    lines = list()\n",
    "    for key, desc_list in descriptions.items():\n",
    "        for desc in desc_list:\n",
    "            lines.append(key + '\\t' + desc )\n",
    "    data = \"\\n\".join(lines)\n",
    "    file = open(filename,\"w\")\n",
    "    file.write(data)\n",
    "    file.close()"
   ]
  },
  {
   "cell_type": "code",
   "execution_count": 305,
   "metadata": {},
   "outputs": [],
   "source": [
    "dataset_text =\"Flickr8k_text\"\n",
    "dataset_images =\"Flicker8k_Dataset\""
   ]
  },
  {
   "cell_type": "code",
   "execution_count": 306,
   "metadata": {},
   "outputs": [
    {
     "name": "stdout",
     "output_type": "stream",
     "text": [
      "Length of descriptions = 8092\n"
     ]
    }
   ],
   "source": [
    "#we prepare our text data\n",
    "filename = dataset_text + \"/\" + \"Flickr8k.token.txt\"\n",
    "#loading the file that contains all data\n",
    "#mapping them into descriptions dictionary img to 5 captions\n",
    "descriptions = all_img_captions(filename)\n",
    "print(\"Length of descriptions =\" ,len(descriptions))"
   ]
  },
  {
   "cell_type": "code",
   "execution_count": 307,
   "metadata": {},
   "outputs": [
    {
     "name": "stdout",
     "output_type": "stream",
     "text": [
      "Length of vocabulary =  8763\n"
     ]
    }
   ],
   "source": [
    "#cleaning the descriptions\n",
    "clean_descriptions = cleaning_text(descriptions)\n",
    "#building vocabulary \n",
    "vocabulary = text_vocabulary(clean_descriptions)\n",
    "print(\"Length of vocabulary = \", len(vocabulary))\n",
    "#saving each description to file \n",
    "save_descriptions(clean_descriptions, \"descriptions.txt\")"
   ]
  },
  {
   "cell_type": "code",
   "execution_count": 36,
   "metadata": {},
   "outputs": [
    {
     "data": {
      "application/vnd.jupyter.widget-view+json": {
       "model_id": "138db55404c14ff4bb596825009c6af7",
       "version_major": 2,
       "version_minor": 0
      },
      "text/plain": [
       "  0%|          | 0/8091 [00:00<?, ?it/s]"
      ]
     },
     "metadata": {},
     "output_type": "display_data"
    }
   ],
   "source": [
    "def extract_features(directory):\n",
    "        model = Xception( include_top=False, pooling='avg' )\n",
    "        features = {}\n",
    "        for img in tqdm(os.listdir(directory)):\n",
    "            filename = directory + \"/\" + img\n",
    "            image = Image.open(filename)\n",
    "            image = image.resize((299,299))\n",
    "            image = np.expand_dims(image, axis=0)\n",
    "            image = image/127.5\n",
    "            image = image - 1.0\n",
    "            feature = model.predict(image)\n",
    "            features[img] = feature\n",
    "        return features\n",
    "#2048 feature vector\n",
    "features = extract_features(dataset_images)\n",
    "dump(features, open(\"features_Xception.p\",\"wb\"))"
   ]
  },
  {
   "cell_type": "code",
   "execution_count": 308,
   "metadata": {},
   "outputs": [],
   "source": [
    "def load_photos(filename):\n",
    "    file = load_doc(filename)\n",
    "    photos = file.split(\"\\n\")[:-1]\n",
    "    return photos"
   ]
  },
  {
   "cell_type": "code",
   "execution_count": 309,
   "metadata": {},
   "outputs": [],
   "source": [
    "def load_clean_descriptions(filename, photos): \n",
    "    #loading clean_descriptions\n",
    "    file = load_doc(filename)\n",
    "    descriptions = {}\n",
    "    for line in file.split(\"\\n\"):\n",
    "        words = line.split()\n",
    "        if len(words)<1 :\n",
    "            continue\n",
    "        image, image_caption = words[0], words[1:]\n",
    "        if image in photos:\n",
    "            if image not in descriptions:\n",
    "                descriptions[image] = []\n",
    "            desc = '<start> ' + \" \".join(image_caption) + ' <end>'\n",
    "            descriptions[image].append(desc)\n",
    "    return descriptions"
   ]
  },
  {
   "cell_type": "code",
   "execution_count": 310,
   "metadata": {},
   "outputs": [],
   "source": [
    "def load_features(photos):\n",
    "    #loading all features\n",
    "    all_features = load(open(\"features_Xception.p\",\"rb\"))\n",
    "    #selecting only needed features\n",
    "    features = {k:all_features[k] for k in photos}\n",
    "    return features"
   ]
  },
  {
   "cell_type": "code",
   "execution_count": 311,
   "metadata": {},
   "outputs": [],
   "source": [
    "filename = dataset_text + \"/\" + \"Flickr_8k.trainImages.txt\"\n",
    "#train = loading_data(filename)\n",
    "train_imgs = load_photos(filename)\n",
    "train_descriptions = load_clean_descriptions(\"descriptions.txt\", train_imgs)\n",
    "train_features = load_features(train_imgs)"
   ]
  },
  {
   "cell_type": "code",
   "execution_count": 312,
   "metadata": {},
   "outputs": [
    {
     "data": {
      "text/plain": [
       "7577"
      ]
     },
     "execution_count": 312,
     "metadata": {},
     "output_type": "execute_result"
    }
   ],
   "source": [
    "#converting dictionary to clean list of descriptions\n",
    "def dict_to_list(descriptions):\n",
    "    all_desc = []\n",
    "    for key in descriptions.keys():\n",
    "        [all_desc.append(d) for d in descriptions[key]]\n",
    "    return all_desc\n",
    "#creating tokenizer class \n",
    "#this will vectorise text corpus\n",
    "#each integer will represent token in dictionary\n",
    "from keras.preprocessing.text import Tokenizer\n",
    "def create_tokenizer(descriptions):\n",
    "    desc_list = dict_to_list(descriptions)\n",
    "    tokenizer = Tokenizer()\n",
    "    tokenizer.fit_on_texts(desc_list)\n",
    "    return tokenizer\n",
    "# give each word an index, and store that into tokenizer.p pickle file\n",
    "tokenizer = create_tokenizer(train_descriptions)\n",
    "dump(tokenizer, open('tokenizer.p', 'wb'))\n",
    "vocab_size = len(tokenizer.word_index) + 1\n",
    "vocab_size"
   ]
  },
  {
   "cell_type": "code",
   "execution_count": 313,
   "metadata": {},
   "outputs": [
    {
     "data": {
      "text/plain": [
       "32"
      ]
     },
     "execution_count": 313,
     "metadata": {},
     "output_type": "execute_result"
    }
   ],
   "source": [
    "#calculate maximum length of descriptions\n",
    "def max_length(descriptions):\n",
    "    desc_list = dict_to_list(descriptions)\n",
    "    return max(len(d.split()) for d in desc_list)\n",
    "    \n",
    "max_length = max_length(descriptions)\n",
    "max_length"
   ]
  },
  {
   "cell_type": "code",
   "execution_count": 314,
   "metadata": {},
   "outputs": [],
   "source": [
    "#create input-output sequence pairs from the image description.\n",
    "#data generator, used by model.fit_generator()\n",
    "def data_generator(descriptions, features, tokenizer, max_length):\n",
    "    while 1:\n",
    "        for key, description_list in descriptions.items():\n",
    "            #retrieve photo features\n",
    "            feature = features[key][0]\n",
    "            input_image, input_sequence, output_word = create_sequences(tokenizer, max_length, description_list, feature)\n",
    "            yield [[input_image, input_sequence], output_word]\n",
    "            \n",
    "            \n",
    "def create_sequences(tokenizer, max_length, desc_list, feature):\n",
    "    X1, X2, y = list(), list(), list()\n",
    "    # walk through each description for the image\n",
    "    for desc in desc_list:\n",
    "        # encode the sequence\n",
    "        seq = tokenizer.texts_to_sequences([desc])[0]\n",
    "        # split one sequence into multiple X,y pairs\n",
    "        for i in range(1, len(seq)):\n",
    "            # split into input and output pair\n",
    "            in_seq, out_seq = seq[:i], seq[i]\n",
    "            # pad input sequence\n",
    "            in_seq = pad_sequences([in_seq], maxlen=max_length)[0]\n",
    "            # encode output sequence\n",
    "            out_seq = to_categorical([out_seq], num_classes=vocab_size)[0]\n",
    "            # store\n",
    "            X1.append(feature)\n",
    "            X2.append(in_seq)\n",
    "            y.append(out_seq)\n",
    "    return np.array(X1), np.array(X2), np.array(y)\n"
   ]
  },
  {
   "cell_type": "code",
   "execution_count": 315,
   "metadata": {},
   "outputs": [],
   "source": [
    "# define the captioning model\n",
    "def define_model(vocab_size, max_length):\n",
    "    # features from the CNN model squeezed from 2048 to 256 nodes\n",
    "    inputs1 = Input(shape=(2048,))\n",
    "    fe1 = Dropout(0.5)(inputs1)\n",
    "    fe2 = Dense(256, activation='relu')(fe1)\n",
    "    # LSTM sequence model\n",
    "    inputs2 = Input(shape=(max_length,))\n",
    "    se1 = Embedding(vocab_size, 256, mask_zero=True)(inputs2)\n",
    "    se2 = Dropout(0.5)(se1)\n",
    "    se3 = LSTM(256)(se2)\n",
    "    # Merging both models\n",
    "    decoder1 = add([fe2, se3])\n",
    "    decoder2 = Dense(256, activation='relu')(decoder1)\n",
    "    outputs = Dense(vocab_size, activation='softmax')(decoder2)\n",
    "    # tie it together [image, seq] [word]\n",
    "    model = Model(inputs=[inputs1, inputs2], outputs=outputs)\n",
    "    model.compile(loss='categorical_crossentropy', optimizer='adam')\n",
    "    # summarize model\n",
    "    print(model.summary())\n",
    "    plot_model(model, to_file='model.png', show_shapes=True)\n",
    "    return model"
   ]
  },
  {
   "cell_type": "code",
   "execution_count": 316,
   "metadata": {},
   "outputs": [
    {
     "name": "stdout",
     "output_type": "stream",
     "text": [
      "Requirement already satisfied: GraphViz in c:\\users\\abhil\\anaconda3\\envs\\nlp_course\\lib\\site-packages (0.19.2)\n"
     ]
    }
   ],
   "source": [
    "!pip install GraphViz"
   ]
  },
  {
   "cell_type": "code",
   "execution_count": 317,
   "metadata": {},
   "outputs": [
    {
     "name": "stdout",
     "output_type": "stream",
     "text": [
      "Dataset:  6000\n",
      "Descriptions: train= 6000\n",
      "Photos: train= 6000\n",
      "Vocabulary Size: 7577\n",
      "Description Length:  32\n",
      "Model: \"model_8\"\n",
      "__________________________________________________________________________________________________\n",
      "Layer (type)                    Output Shape         Param #     Connected to                     \n",
      "==================================================================================================\n",
      "input_20 (InputLayer)           (None, 32)           0                                            \n",
      "__________________________________________________________________________________________________\n",
      "input_19 (InputLayer)           (None, 2048)         0                                            \n",
      "__________________________________________________________________________________________________\n",
      "embedding_20 (Embedding)        (None, 32, 256)      1939712     input_20[0][0]                   \n",
      "__________________________________________________________________________________________________\n",
      "dropout_27 (Dropout)            (None, 2048)         0           input_19[0][0]                   \n",
      "__________________________________________________________________________________________________\n",
      "dropout_28 (Dropout)            (None, 32, 256)      0           embedding_20[0][0]               \n",
      "__________________________________________________________________________________________________\n",
      "dense_34 (Dense)                (None, 256)          524544      dropout_27[0][0]                 \n",
      "__________________________________________________________________________________________________\n",
      "lstm_16 (LSTM)                  (None, 256)          525312      dropout_28[0][0]                 \n",
      "__________________________________________________________________________________________________\n",
      "add_56 (Add)                    (None, 256)          0           dense_34[0][0]                   \n",
      "                                                                 lstm_16[0][0]                    \n",
      "__________________________________________________________________________________________________\n",
      "dense_35 (Dense)                (None, 256)          65792       add_56[0][0]                     \n",
      "__________________________________________________________________________________________________\n",
      "dense_36 (Dense)                (None, 7577)         1947289     dense_35[0][0]                   \n",
      "==================================================================================================\n",
      "Total params: 5,002,649\n",
      "Trainable params: 5,002,649\n",
      "Non-trainable params: 0\n",
      "__________________________________________________________________________________________________\n",
      "None\n"
     ]
    }
   ],
   "source": [
    "from keras.utils.vis_utils import plot_model\n",
    "# train our model\n",
    "print('Dataset: ', len(train_imgs))\n",
    "print('Descriptions: train=', len(train_descriptions))\n",
    "print('Photos: train=', len(train_features))\n",
    "print('Vocabulary Size:', vocab_size)\n",
    "print('Description Length: ', max_length)\n",
    "\n",
    "model = define_model(vocab_size, max_length)\n",
    "epochs = 10\n",
    "steps = len(train_descriptions)\n",
    "# making a directory models to save our models\n",
    "#os.mkdir(\"models_NEW\")\n"
   ]
  },
  {
   "cell_type": "code",
   "execution_count": 58,
   "metadata": {},
   "outputs": [
    {
     "name": "stdout",
     "output_type": "stream",
     "text": [
      "Epoch 1/1\n",
      "6000/6000 [==============================] - 1675s 279ms/step - loss: 4.2691\n",
      "Epoch 1/1\n",
      "6000/6000 [==============================] - 1418s 236ms/step - loss: 3.6374\n",
      "Epoch 1/1\n",
      "6000/6000 [==============================] - 1420s 237ms/step - loss: 3.3779\n",
      "Epoch 1/1\n",
      "6000/6000 [==============================] - 1437s 239ms/step - loss: 3.2210\n",
      "Epoch 1/1\n",
      "6000/6000 [==============================] - 1432s 239ms/step - loss: 3.1098\n",
      "Epoch 1/1\n",
      "6000/6000 [==============================] - 1439s 240ms/step - loss: 3.0300\n",
      "Epoch 1/1\n",
      "6000/6000 [==============================] - 1431s 239ms/step - loss: 2.9615\n",
      "Epoch 1/1\n",
      "6000/6000 [==============================] - 1457s 243ms/step - loss: 2.9119\n",
      "Epoch 1/1\n",
      "6000/6000 [==============================] - 1483s 247ms/step - loss: 2.8667\n",
      "Epoch 1/1\n",
      "6000/6000 [==============================] - 1526s 254ms/step - loss: 2.8345\n"
     ]
    }
   ],
   "source": [
    "for i in range(epochs):\n",
    "    generator = data_generator(train_descriptions, train_features, tokenizer, max_length)\n",
    "    model.fit_generator(generator, epochs=1, steps_per_epoch= steps, verbose=1)\n",
    "    model.save(\"models_New/model_\" + str(i) + \".h5\")"
   ]
  },
  {
   "cell_type": "code",
   "execution_count": 318,
   "metadata": {},
   "outputs": [],
   "source": [
    "import numpy as np\n",
    "from PIL import Image\n",
    "import matplotlib.pyplot as plt\n",
    "import graphviz\n",
    "import pydot"
   ]
  },
  {
   "cell_type": "code",
   "execution_count": 319,
   "metadata": {},
   "outputs": [],
   "source": [
    "def extract_features(filename, model):\n",
    "        try:\n",
    "            image = Image.open(filename)\n",
    "        except:\n",
    "            print(\"ERROR: Couldn't open image! Make sure the image path and extension is correct\")\n",
    "        image = image.resize((299,299))\n",
    "        image = np.array(image)\n",
    "        # for images that has 4 channels, we convert them into 3 channels\n",
    "        if image.shape[2] == 4: \n",
    "            image = image[..., :3]\n",
    "        image = np.expand_dims(image, axis=0)\n",
    "        image = image/127.5\n",
    "        image = image - 1.0\n",
    "        feature = model.predict(image)\n",
    "        return feature"
   ]
  },
  {
   "cell_type": "code",
   "execution_count": 320,
   "metadata": {},
   "outputs": [],
   "source": [
    "def word_for_id(integer, tokenizer):\n",
    "    for word, index in tokenizer.word_index.items():\n",
    "        if index == integer:\n",
    "            return word\n",
    "    return None"
   ]
  },
  {
   "cell_type": "code",
   "execution_count": 321,
   "metadata": {},
   "outputs": [],
   "source": [
    "def generate_desc(model, tokenizer, photo, max_length):\n",
    "    in_text = 'start'\n",
    "    for i in range(max_length):\n",
    "        sequence = tokenizer.texts_to_sequences([in_text])[0]\n",
    "        sequence = pad_sequences([sequence], maxlen=max_length)\n",
    "        pred = model.predict([photo,sequence], verbose=0)\n",
    "        pred = np.argmax(pred)\n",
    "        word = word_for_id(pred, tokenizer)\n",
    "        if word is None:\n",
    "            break\n",
    "        in_text += ' ' + word\n",
    "        if word == 'end':\n",
    "            break\n",
    "    return in_text"
   ]
  },
  {
   "cell_type": "code",
   "execution_count": 322,
   "metadata": {},
   "outputs": [],
   "source": [
    "#path = 'Flicker8k_Dataset/111537222_07e56d5a30.jpg'\n",
    "max_length = 32\n",
    "tokenizer = load(open(\"tokenizer.p\",\"rb\"))\n",
    "model = load_model('models_New/model_9.h5')\n",
    "xception_model = Xception(include_top=False, pooling=\"avg\")"
   ]
  },
  {
   "cell_type": "code",
   "execution_count": 325,
   "metadata": {},
   "outputs": [
    {
     "name": "stdout",
     "output_type": "stream",
     "text": [
      "\n",
      "\n",
      "\n",
      "man is climbing up large rock\n"
     ]
    },
    {
     "data": {
      "text/plain": [
       "<matplotlib.image.AxesImage at 0x1cf21756b48>"
      ]
     },
     "execution_count": 325,
     "metadata": {},
     "output_type": "execute_result"
    },
    {
     "data": {
      "image/png": "[encoded data removed]",
      "text/plain": [
       "<Figure size 432x288 with 1 Axes>"
      ]
     },
     "metadata": {
      "needs_background": "light"
     },
     "output_type": "display_data"
    }
   ],
   "source": [
    "photo = extract_features('Flicker8k_Dataset/111537222_07e56d5a30.jpg', xception_model)\n",
    "img = Image.open('Flicker8k_Dataset/111537222_07e56d5a30.jpg')\n",
    "description = generate_desc(model, tokenizer, photo, max_length)\n",
    "print(\"\\n\\n\")\n",
    "description= description[6:9] + description[22:-4]\n",
    "print(description)\n",
    "plt.imshow(img)"
   ]
  },
  {
   "cell_type": "code",
   "execution_count": 358,
   "metadata": {},
   "outputs": [],
   "source": [
    "def lastWord(string):\n",
    "   \n",
    "    # split by space and converting\n",
    "    # string to list and\n",
    "    lis = list(string.split(\" \"))\n",
    "     \n",
    "    # length of list\n",
    "    length = len(lis)\n",
    "     \n",
    "    # returning last element in list\n",
    "    return lis[length-1]\n",
    " \n",
    "description = lastWord(description)"
   ]
  },
  {
   "cell_type": "code",
   "execution_count": 359,
   "metadata": {},
   "outputs": [
    {
     "data": {
      "text/plain": [
       "'rock'"
      ]
     },
     "execution_count": 359,
     "metadata": {},
     "output_type": "execute_result"
    }
   ],
   "source": [
    "description"
   ]
  },
  {
   "cell_type": "code",
   "execution_count": 65,
   "metadata": {},
   "outputs": [
    {
     "name": "stdout",
     "output_type": "stream",
     "text": [
      "\n",
      "\n",
      "\n",
      "man in red shirt is riding bicycle down the street\n"
     ]
    },
    {
     "data": {
      "text/plain": [
       "<matplotlib.image.AxesImage at 0x1ce66666f88>"
      ]
     },
     "execution_count": 65,
     "metadata": {},
     "output_type": "execute_result"
    },
    {
     "data": {
      "image/png": "[encoded data removed]",
      "text/plain": [
       "<Figure size 432x288 with 1 Axes>"
      ]
     },
     "metadata": {
      "needs_background": "light"
     },
     "output_type": "display_data"
    }
   ],
   "source": [
    "photo = extract_features('Flicker8k_Dataset/3729405438_6e79077ab2.jpg', xception_model)\n",
    "img = Image.open('Flicker8k_Dataset/3729405438_6e79077ab2.jpg')\n",
    "description = generate_desc(model, tokenizer, photo, max_length)\n",
    "print(\"\\n\\n\")\n",
    "description= description[6:-4]\n",
    "print(description)\n",
    "plt.imshow(img)"
   ]
  },
  {
   "cell_type": "code",
   "execution_count": 326,
   "metadata": {},
   "outputs": [],
   "source": [
    "import json\n",
    "import random\n",
    "import numpy as np\n",
    "import pandas as pd\n",
    "\n",
    "import os\n",
    "#import contractions\n",
    "os.environ[\"KERAS_BACKEND\"] = \"plaidml.keras.backend\"\n",
    "import keras\n",
    "import keras.utils as ku\n",
    "from keras.preprocessing.text import Tokenizer\n",
    "from keras.preprocessing.sequence import pad_sequences\n",
    "from keras.layers import Embedding\n",
    "import nltk\n",
    "from nltk.corpus import stopwords \n",
    "\n",
    "from keras.layers import LSTM, Dense, Dropout, Flatten, Bidirectional, SimpleRNN\n",
    "from keras.callbacks import LambdaCallback\n",
    "from keras.models import Sequential\n",
    "from tensorflow.keras.optimizers import RMSprop\n",
    "from keras.utils import np_utils\n",
    "\n",
    "#import lm_scorer"
   ]
  },
  {
   "cell_type": "code",
   "execution_count": 327,
   "metadata": {},
   "outputs": [],
   "source": [
    "all_lines = []\n",
    "for line in open(\"gutenberg-poetry-v001.ndjson\"):\n",
    "    all_lines.append(json.loads(line.strip()))\n",
    "    \n",
    "corpus = \"\\n\".join([line['s'] for line in random.sample(all_lines, 1000)])"
   ]
  },
  {
   "cell_type": "code",
   "execution_count": 328,
   "metadata": {},
   "outputs": [
    {
     "data": {
      "text/plain": [
       "'For the distant, happy islands\\nShe crept and did not make a sound\\nShalt feel what Prato, (not to say the rest)\\nWhere no sensation flourished--smallest type\\nThose quivering wings composed, that music still!\\nOdors sweet in misty veil\\nSir John had suddenly grown wond\\'rous wise;\\nFearless in flight,     the Phoenix its name.\\nAs though a grievous sin dismayed\\nThe Organs of her Fancie, and with them forge\\nI am the old\\nAnd happed him in our royal bed.\"\\nAn\\' de sheep split \\'is lip wid a big broad grin.\\nGnashes his teeth, and from his shield\\'s tough hide\\nNot known before.\\nCrimson with Roman blood yon stream shall run.\\nIf you\\'ll your grammar study,\\nRape or Adulterie, where passing faire\\nHeart of the World give heed,\\nBut no, say nothing: silence is a veil\\nWhen Theodore praised some dish, or frankly said\\nOn the sacred stronghold of Priam.\\nBlest are the dead, forever blest,\\nThen spied a puff-ball and essayed\\nIn time of old, O thou most brave,\\nThe royal wittol Charles, and curse the day\\nTwo of fair En'"
      ]
     },
     "execution_count": 328,
     "metadata": {},
     "output_type": "execute_result"
    }
   ],
   "source": [
    "corpus[0:1000]"
   ]
  },
  {
   "cell_type": "markdown",
   "metadata": {},
   "source": [
    "# Expand contracted words"
   ]
  },
  {
   "cell_type": "code",
   "execution_count": 329,
   "metadata": {},
   "outputs": [],
   "source": [
    "import contractions"
   ]
  },
  {
   "cell_type": "code",
   "execution_count": 330,
   "metadata": {},
   "outputs": [
    {
     "data": {
      "text/plain": [
       "'For the distant, happy islands\\nShe crept and did not make a sound\\nShalt feel what Prato, (not to say the rest)\\nWhere no sensation flourished--smallest type\\nThose quivering wings composed, that music still!\\nOdors sweet in misty veil\\nSir John had suddenly grown wond\\'rous wise;\\nFearless in flight,     the Phoenix its name.\\nAs though a grievous sin dismayed\\nThe Organs of her Fancie, and with them forge\\nI am the old\\nAnd happed him in our royal bed.\"\\nAn\\' de sheep split \\'is lip wid a big broad grin.\\nGnashes his teeth, and from his shield\\'s tough hide\\nNot known before.\\nCrimson with Roman blood yon stream shall run.\\nIf you will your grammar study,\\nRape or Adulterie, where passing faire\\nHeart of the World give heed,\\nBut no, say nothing: silence is a veil\\nWhen Theodore praised some dish, or frankly said\\nOn the sacred stronghold of Priam.\\nBlest are the dead, forever blest,\\nThen spied a puff-ball and essayed\\nIn time of old, O thou most brave,\\nThe royal wittol Charles, and curse the day\\nTwo of fair '"
      ]
     },
     "execution_count": 330,
     "metadata": {},
     "output_type": "execute_result"
    }
   ],
   "source": [
    "expanded_data = contractions.fix(corpus)\n",
    "expanded_data[0:1000]"
   ]
  },
  {
   "cell_type": "markdown",
   "metadata": {},
   "source": [
    "# Extract new lines from data"
   ]
  },
  {
   "cell_type": "code",
   "execution_count": 331,
   "metadata": {},
   "outputs": [],
   "source": [
    "# Lowercase all text\n",
    "raw_text = expanded_data.lower()\n",
    "raw_text = raw_text\n",
    "raw_text = raw_text.split('\\n')"
   ]
  },
  {
   "cell_type": "markdown",
   "metadata": {},
   "source": [
    "# Remove unwanted punctuations from lines"
   ]
  },
  {
   "cell_type": "code",
   "execution_count": 332,
   "metadata": {},
   "outputs": [
    {
     "data": {
      "text/plain": [
       "['for the distant, happy islands',\n",
       " 'she crept and did not make a sound',\n",
       " 'shalt feel what prato, (not to say the rest',\n",
       " 'where no sensation flourished--smallest type',\n",
       " 'those quivering wings composed, that music still',\n",
       " 'odors sweet in misty veil',\n",
       " \"sir john had suddenly grown wond'rous wise\",\n",
       " 'fearless in flight,     the phoenix its name.',\n",
       " 'as though a grievous sin dismayed',\n",
       " 'the organs of her fancie, and with them forge']"
      ]
     },
     "execution_count": 332,
     "metadata": {},
     "output_type": "execute_result"
    }
   ],
   "source": [
    "text = [txt.strip('\"!\\\"#$%&\\)*+-/(:;<=>?@][\\\\^_}{|~--[0-9]') for txt in raw_text]\n",
    "text[0:10]"
   ]
  },
  {
   "cell_type": "markdown",
   "metadata": {},
   "source": [
    "# Tokenize the lines extracted"
   ]
  },
  {
   "cell_type": "code",
   "execution_count": 333,
   "metadata": {},
   "outputs": [],
   "source": [
    "# Create Tokenizer object to convert words to sequences of integers\n",
    "tokenizer = Tokenizer(num_words = None, filters = '!\"#$%&\\'()*+,-./:;<=>?@[\\\\]^_`{|}~\\t\\n', lower = False)"
   ]
  },
  {
   "cell_type": "code",
   "execution_count": 334,
   "metadata": {},
   "outputs": [
    {
     "data": {
      "text/plain": [
       "2581"
      ]
     },
     "execution_count": 334,
     "metadata": {},
     "output_type": "execute_result"
    }
   ],
   "source": [
    "# Train tokenizer to the texts\n",
    "tokenizer.fit_on_texts(text)\n",
    "total_words = len(tokenizer.word_index) + 1\n",
    "total_words"
   ]
  },
  {
   "cell_type": "markdown",
   "metadata": {},
   "source": [
    "# Convert text to ngram sequences"
   ]
  },
  {
   "cell_type": "code",
   "execution_count": 335,
   "metadata": {},
   "outputs": [],
   "source": [
    "# Convert list of strings into flat dataset of sequences of tokens\n",
    "sequences = []\n",
    "for line in text:\n",
    "    token_list = tokenizer.texts_to_sequences([line])[0]\n",
    "    for i in range(1, len(token_list)):\n",
    "        n_gram_sequence = token_list[:i+1]\n",
    "        sequences.append(n_gram_sequence)"
   ]
  },
  {
   "cell_type": "code",
   "execution_count": 336,
   "metadata": {},
   "outputs": [
    {
     "data": {
      "text/plain": [
       "6335"
      ]
     },
     "execution_count": 336,
     "metadata": {},
     "output_type": "execute_result"
    }
   ],
   "source": [
    "len(sequences)"
   ]
  },
  {
   "cell_type": "markdown",
   "metadata": {},
   "source": [
    "# Pad sequences to ensure equal lengths"
   ]
  },
  {
   "cell_type": "code",
   "execution_count": 337,
   "metadata": {},
   "outputs": [],
   "source": [
    "max_seq_len = max([len(x) for x in sequences])\n",
    "sequences = np.array(pad_sequences(sequences, maxlen = max_seq_len, padding = 'pre'))"
   ]
  },
  {
   "cell_type": "markdown",
   "metadata": {},
   "source": [
    "# n-gram sequence - predictors and labels"
   ]
  },
  {
   "cell_type": "code",
   "execution_count": 338,
   "metadata": {},
   "outputs": [],
   "source": [
    "# Create n-grams sequence predictors and labels\n",
    "predictors, label = sequences[:, :-1], sequences[:, -1]\n",
    "label = keras.utils.np_utils.to_categorical(label, num_classes = total_words)"
   ]
  },
  {
   "cell_type": "markdown",
   "metadata": {},
   "source": [
    "# Input length for model"
   ]
  },
  {
   "cell_type": "code",
   "execution_count": 339,
   "metadata": {},
   "outputs": [],
   "source": [
    "input_len = max_seq_len - 1"
   ]
  },
  {
   "cell_type": "markdown",
   "metadata": {},
   "source": [
    "# Stop words for poem generation task"
   ]
  },
  {
   "cell_type": "code",
   "execution_count": 340,
   "metadata": {},
   "outputs": [],
   "source": [
    "# Used to monitor the generation of sentences in poem\n",
    "stop_words = set(stopwords.words('english'))"
   ]
  },
  {
   "cell_type": "markdown",
   "metadata": {},
   "source": [
    "# PART - 1 : Markov model"
   ]
  },
  {
   "cell_type": "code",
   "execution_count": 341,
   "metadata": {},
   "outputs": [],
   "source": [
    "import markovify"
   ]
  },
  {
   "cell_type": "code",
   "execution_count": 342,
   "metadata": {},
   "outputs": [],
   "source": [
    "markov_model = markovify.NewlineText(expanded_data)"
   ]
  },
  {
   "cell_type": "code",
   "execution_count": 343,
   "metadata": {},
   "outputs": [],
   "source": [
    "def gen_poem_markov():\n",
    "    output_text = ''\n",
    "    for i in range(5):\n",
    "        for i in range(random.randrange(1, 4)):\n",
    "            text = markov_model.make_short_sentence(30)\n",
    "            print(text)\n",
    "            output_text += ' ' + text\n",
    "    return output_text"
   ]
  },
  {
   "cell_type": "markdown",
   "metadata": {},
   "source": [
    "# PART - 2: Vanilla RNN - Simple word embedding model¶"
   ]
  },
  {
   "cell_type": "code",
   "execution_count": 344,
   "metadata": {},
   "outputs": [
    {
     "name": "stdout",
     "output_type": "stream",
     "text": [
      "Epoch 1/100\n",
      "6335/6335 [==============================] - 10s 2ms/step - loss: 7.2273\n",
      "Epoch 2/100\n",
      "6335/6335 [==============================] - 7s 1ms/step - loss: 6.6408\n",
      "Epoch 3/100\n",
      "6335/6335 [==============================] - 7s 1ms/step - loss: 6.3282\n",
      "Epoch 4/100\n",
      "6335/6335 [==============================] - 6s 1ms/step - loss: 5.9863\n",
      "Epoch 5/100\n",
      "6335/6335 [==============================] - 6s 992us/step - loss: 5.6254\n",
      "Epoch 6/100\n",
      "6335/6335 [==============================] - 6s 1ms/step - loss: 5.2479\n",
      "Epoch 7/100\n",
      "6335/6335 [==============================] - 6s 992us/step - loss: 4.8689\n",
      "Epoch 8/100\n",
      "6335/6335 [==============================] - 6s 996us/step - loss: 4.4735\n",
      "Epoch 9/100\n",
      "6335/6335 [==============================] - 6s 994us/step - loss: 4.0894\n",
      "Epoch 10/100\n",
      "6335/6335 [==============================] - 6s 966us/step - loss: 3.6928\n",
      "Epoch 11/100\n",
      "6335/6335 [==============================] - 6s 994us/step - loss: 3.3226\n",
      "Epoch 12/100\n",
      "6335/6335 [==============================] - 6s 981us/step - loss: 2.9616\n",
      "Epoch 13/100\n",
      "6335/6335 [==============================] - 6s 1ms/step - loss: 2.6286\n",
      "Epoch 14/100\n",
      "6335/6335 [==============================] - 6s 987us/step - loss: 2.3476\n",
      "Epoch 15/100\n",
      "6335/6335 [==============================] - 10s 2ms/step - loss: 2.0766\n",
      "Epoch 16/100\n",
      "6335/6335 [==============================] - 9s 1ms/step - loss: 1.8577\n",
      "Epoch 17/100\n",
      "6335/6335 [==============================] - 8s 1ms/step - loss: 1.6670\n",
      "Epoch 18/100\n",
      "6335/6335 [==============================] - 7s 1ms/step - loss: 1.4841\n",
      "Epoch 19/100\n",
      "6335/6335 [==============================] - 7s 1ms/step - loss: 1.3346\n",
      "Epoch 20/100\n",
      "6335/6335 [==============================] - 6s 1ms/step - loss: 1.2072\n",
      "Epoch 21/100\n",
      "6335/6335 [==============================] - 6s 1ms/step - loss: 1.0909A: 0s - loss: 1.\n",
      "Epoch 22/100\n",
      "6335/6335 [==============================] - 6s 980us/step - loss: 1.0022\n",
      "Epoch 23/100\n",
      "6335/6335 [==============================] - 6s 967us/step - loss: 0.9152\n",
      "Epoch 24/100\n",
      "6335/6335 [==============================] - 6s 996us/step - loss: 0.8428\n",
      "Epoch 25/100\n",
      "6335/6335 [==============================] - 6s 974us/step - loss: 0.7813\n",
      "Epoch 26/100\n",
      "6335/6335 [==============================] - 6s 970us/step - loss: 0.7292\n",
      "Epoch 27/100\n",
      "6335/6335 [==============================] - 7s 1ms/step - loss: 0.6778A: 0s - loss: 0.6 - ETA: 0s - loss\n",
      "Epoch 28/100\n",
      "6335/6335 [==============================] - 6s 987us/step - loss: 0.6476\n",
      "Epoch 29/100\n",
      "6335/6335 [==============================] - 6s 981us/step - loss: 0.6163\n",
      "Epoch 30/100\n",
      "6335/6335 [==============================] - 7s 1ms/step - loss: 0.5849\n",
      "Epoch 31/100\n",
      "6335/6335 [==============================] - 7s 1ms/step - loss: 0.5657\n",
      "Epoch 32/100\n",
      "6335/6335 [==============================] - 6s 979us/step - loss: 0.5428\n",
      "Epoch 33/100\n",
      "6335/6335 [==============================] - 6s 988us/step - loss: 0.5324\n",
      "Epoch 34/100\n",
      "6335/6335 [==============================] - 6s 998us/step - loss: 0.5177\n",
      "Epoch 35/100\n",
      "6335/6335 [==============================] - 6s 1ms/step - loss: 0.5062\n",
      "Epoch 36/100\n",
      "6335/6335 [==============================] - 6s 987us/step - loss: 0.4911\n",
      "Epoch 37/100\n",
      "6335/6335 [==============================] - 6s 1ms/step - loss: 0.4863\n",
      "Epoch 38/100\n",
      "6335/6335 [==============================] - 6s 1ms/step - loss: 0.4745\n",
      "Epoch 39/100\n",
      "6335/6335 [==============================] - 6s 995us/step - loss: 0.4719\n",
      "Epoch 40/100\n",
      "6335/6335 [==============================] - 10s 2ms/step - loss: 0.4704\n",
      "Epoch 41/100\n",
      "6335/6335 [==============================] - 9s 1ms/step - loss: 0.4613A: 0s - loss: 0.4\n",
      "Epoch 42/100\n",
      "6335/6335 [==============================] - 9s 1ms/step - loss: 0.4519\n",
      "Epoch 43/100\n",
      "6335/6335 [==============================] - 7s 1ms/step - loss: 0.4471\n",
      "Epoch 44/100\n",
      "6335/6335 [==============================] - 6s 994us/step - loss: 0.4455\n",
      "Epoch 45/100\n",
      "6335/6335 [==============================] - 6s 991us/step - loss: 0.4424\n",
      "Epoch 46/100\n",
      "6335/6335 [==============================] - 6s 988us/step - loss: 0.4426\n",
      "Epoch 47/100\n",
      "6335/6335 [==============================] - 7s 1ms/step - loss: 0.4415\n",
      "Epoch 48/100\n",
      "6335/6335 [==============================] - 7s 1ms/step - loss: 0.4345\n",
      "Epoch 49/100\n",
      "6335/6335 [==============================] - 6s 1ms/step - loss: 0.4342A: 0s -\n",
      "Epoch 50/100\n",
      "6335/6335 [==============================] - 7s 1ms/step - loss: 0.4381\n",
      "Epoch 51/100\n",
      "6335/6335 [==============================] - 6s 1ms/step - loss: 0.4306\n",
      "Epoch 52/100\n",
      "6335/6335 [==============================] - 6s 1ms/step - loss: 0.4236\n",
      "Epoch 53/100\n",
      "6335/6335 [==============================] - 6s 1ms/step - loss: 0.4196 - ETA: 2s -\n",
      "Epoch 64/100\n",
      "6335/6335 [==============================] - 6s 1ms/step - loss: 0.4236\n",
      "Epoch 65/100\n",
      "6335/6335 [==============================] - 8s 1ms/step - loss: 0.4129\n",
      "Epoch 66/100\n",
      "6335/6335 [==============================] - 7s 1ms/step - loss: 0.4102\n",
      "Epoch 67/100\n",
      "6335/6335 [==============================] - 8s 1ms/step - loss: 0.4131\n",
      "Epoch 68/100\n",
      "6335/6335 [==============================] - 8s 1ms/step - loss: 0.4171\n",
      "Epoch 69/100\n",
      "6335/6335 [==============================] - 9s 1ms/step - loss: 0.4200\n",
      "Epoch 70/100\n",
      "6335/6335 [==============================] - 7s 1ms/step - loss: 0.4106\n",
      "Epoch 71/100\n",
      "6335/6335 [==============================] - 6s 1ms/step - loss: 0.4184\n",
      "Epoch 72/100\n",
      "6335/6335 [==============================] - 7s 1ms/step - loss: 0.4146\n",
      "Epoch 73/100\n",
      "6335/6335 [==============================] - 7s 1ms/step - loss: 0.4152\n",
      "Epoch 74/100\n",
      "6335/6335 [==============================] - 6s 1ms/step - loss: 0.4162A: 0s -\n",
      "Epoch 75/100\n",
      "6335/6335 [==============================] - 6s 994us/step - loss: 0.4148\n",
      "Epoch 76/100\n",
      "6335/6335 [==============================] - 6s 1ms/step - loss: 0.4076\n",
      "Epoch 77/100\n",
      "6335/6335 [==============================] - 7s 1ms/step - loss: 0.4098\n",
      "Epoch 78/100\n",
      "6335/6335 [==============================] - 9s 1ms/step - loss: 0.4113A: \n",
      "Epoch 79/100\n",
      "6335/6335 [==============================] - 11s 2ms/step - loss: 0.4063\n",
      "Epoch 80/100\n",
      "6335/6335 [==============================] - 9s 1ms/step - loss: 0.4079\n",
      "Epoch 81/100\n",
      "6335/6335 [==============================] - 8s 1ms/step - loss: 0.4154\n",
      "Epoch 82/100\n",
      "6335/6335 [==============================] - 8s 1ms/step - loss: 0.4158\n",
      "Epoch 83/100\n",
      "6335/6335 [==============================] - 11s 2ms/step - loss: 0.4096\n",
      "Epoch 84/100\n",
      "6335/6335 [==============================] - 12s 2ms/step - loss: 0.4107A: 0s - l\n",
      "Epoch 85/100\n",
      "6335/6335 [==============================] - 11s 2ms/step - loss: 0.4061\n",
      "Epoch 86/100\n",
      "6335/6335 [==============================] - 10s 2ms/step - loss: 0.4053: 2s\n",
      "Epoch 87/100\n",
      "6335/6335 [==============================] - 10s 2ms/step - loss: 0.4031\n",
      "Epoch 88/100\n",
      "6335/6335 [==============================] - 7s 1ms/step - loss: 0.4090\n",
      "Epoch 89/100\n",
      "6335/6335 [==============================] - 7s 1ms/step - loss: 0.4049\n",
      "Epoch 90/100\n",
      "6335/6335 [==============================] - 7s 1ms/step - loss: 0.4054\n",
      "Epoch 91/100\n",
      "6335/6335 [==============================] - 8s 1ms/step - loss: 0.4024\n",
      "Epoch 92/100\n",
      "6335/6335 [==============================] - 7s 1ms/step - loss: 0.4008\n",
      "Epoch 93/100\n",
      "6335/6335 [==============================] - 7s 1ms/step - loss: 0.4090\n",
      "Epoch 94/100\n",
      "6335/6335 [==============================] - 7s 1ms/step - loss: 0.4074\n",
      "Epoch 95/100\n",
      "6335/6335 [==============================] - 7s 1ms/step - loss: 0.4051\n",
      "Epoch 96/100\n",
      "6335/6335 [==============================] - 7s 1ms/step - loss: 0.4037\n",
      "Epoch 97/100\n",
      "6335/6335 [==============================] - 7s 1ms/step - loss: 0.4081\n",
      "Epoch 98/100\n",
      "6335/6335 [==============================] - 7s 1ms/step - loss: 0.3983\n",
      "Epoch 99/100\n",
      "6335/6335 [==============================] - 7s 1ms/step - loss: 0.4055\n",
      "Epoch 100/100\n",
      "6335/6335 [==============================] - 7s 1ms/step - loss: 0.4037A: 0s - loss:\n"
     ]
    },
    {
     "data": {
      "text/plain": [
       "<keras.callbacks.callbacks.History at 0x1cef76eaf48>"
      ]
     },
     "execution_count": 344,
     "metadata": {},
     "output_type": "execute_result"
    }
   ],
   "source": [
    "rnn_model = Sequential()\n",
    "rnn_model.add(Embedding(total_words, 100, input_length = input_len))\n",
    "rnn_model.add(SimpleRNN(150))\n",
    "rnn_model.add(Dropout(0.1))\n",
    "rnn_model.add(Dense(total_words, activation = 'softmax'))\n",
    "rnn_model.compile(loss = 'categorical_crossentropy', optimizer = 'adam')\n",
    "\n",
    "# Use 100 epoch for efficacy\n",
    "rnn_model.fit(predictors, label, epochs = 100, verbose = 1)"
   ]
  },
  {
   "cell_type": "markdown",
   "metadata": {},
   "source": [
    "# PART - 3: LSTM - Simple word embedding model"
   ]
  },
  {
   "cell_type": "code",
   "execution_count": 345,
   "metadata": {},
   "outputs": [
    {
     "name": "stdout",
     "output_type": "stream",
     "text": [
      "Epoch 1/100\n",
      "6335/6335 [==============================] - 15s 2ms/step - loss: 7.1905\n",
      "Epoch 2/100\n",
      "6335/6335 [==============================] - 12s 2ms/step - loss: 6.6540\n",
      "Epoch 3/100\n",
      "6335/6335 [==============================] - 10s 2ms/step - loss: 6.4891\n",
      "Epoch 4/100\n",
      "6335/6335 [==============================] - 14s 2ms/step - loss: 6.3509\n",
      "Epoch 5/100\n",
      "6335/6335 [==============================] - 12s 2ms/step - loss: 6.2265\n",
      "Epoch 6/100\n",
      "6335/6335 [==============================] - 11s 2ms/step - loss: 6.0936\n",
      "Epoch 7/100\n",
      "6335/6335 [==============================] - 10s 2ms/step - loss: 5.9477\n",
      "Epoch 8/100\n",
      "6335/6335 [==============================] - 10s 2ms/step - loss: 5.7772\n",
      "Epoch 9/100\n",
      "6335/6335 [==============================] - 11s 2ms/step - loss: 5.5881\n",
      "Epoch 10/100\n",
      "6335/6335 [==============================] - 10s 2ms/step - loss: 5.3968\n",
      "Epoch 11/100\n",
      "6335/6335 [==============================] - 10s 2ms/step - loss: 5.1966\n",
      "Epoch 12/100\n",
      "6335/6335 [==============================] - 10s 2ms/step - loss: 4.9983\n",
      "Epoch 13/100\n",
      "6335/6335 [==============================] - 10s 2ms/step - loss: 4.8032: 0s - loss: 4.\n",
      "Epoch 14/100\n",
      "6335/6335 [==============================] - 10s 2ms/step - loss: 4.6022\n",
      "Epoch 15/100\n",
      "6335/6335 [==============================] - 10s 2ms/step - loss: 4.4072\n",
      "Epoch 16/100\n",
      "6335/6335 [==============================] - 10s 2ms/step - loss: 4.2141\n",
      "Epoch 17/100\n",
      "6335/6335 [==============================] - 10s 2ms/step - loss: 4.0246\n",
      "Epoch 18/100\n",
      "6335/6335 [==============================] - 10s 2ms/step - loss: 3.8392\n",
      "Epoch 19/100\n",
      "6335/6335 [==============================] - 10s 2ms/step - loss: 3.6465\n",
      "Epoch 20/100\n",
      "6335/6335 [==============================] - 10s 2ms/step - loss: 3.4733\n",
      "Epoch 21/100\n",
      "6335/6335 [==============================] - 10s 2ms/step - loss: 3.2950\n",
      "Epoch 22/100\n",
      "6335/6335 [==============================] - 10s 2ms/step - loss: 3.1213\n",
      "Epoch 23/100\n",
      "6335/6335 [==============================] - 10s 2ms/step - loss: 0.5213\n",
      "Epoch 62/100\n",
      "6335/6335 [==============================] - 11s 2ms/step - loss: 0.5134\n",
      "Epoch 63/100\n",
      "6335/6335 [==============================] - 10s 2ms/step - loss: 0.5023: 1s\n",
      "Epoch 64/100\n",
      "6335/6335 [==============================] - 10s 2ms/step - loss: 0.4866\n",
      "Epoch 65/100\n",
      "6335/6335 [==============================] - 10s 2ms/step - loss: 0.4845\n",
      "Epoch 66/100\n",
      "6335/6335 [==============================] - 12s 2ms/step - loss: 0.4760: 4s - loss:  - ETA: 4s - l\n",
      "Epoch 67/100\n",
      "6335/6335 [==============================] - 10s 2ms/step - loss: 0.4614\n",
      "Epoch 68/100\n",
      "6335/6335 [==============================] - 10s 2ms/step - loss: 0.4595\n",
      "Epoch 69/100\n",
      "6335/6335 [==============================] - 10s 2ms/step - loss: 0.4513\n",
      "Epoch 70/100\n",
      "6335/6335 [==============================] - 10s 2ms/step - loss: 0.4527\n",
      "Epoch 71/100\n",
      "6335/6335 [==============================] - 10s 2ms/step - loss: 0.4381\n",
      "Epoch 72/100\n",
      "6335/6335 [==============================] - 10s 2ms/step - loss: 0.4357: 0s - l\n",
      "Epoch 73/100\n",
      "6335/6335 [==============================] - 10s 2ms/step - loss: 0.4331\n",
      "Epoch 74/100\n",
      "6335/6335 [==============================] - 10s 2ms/step - loss: 0.4248\n",
      "Epoch 75/100\n",
      "6335/6335 [==============================] - 10s 2ms/step - loss: 0.4203\n",
      "Epoch 76/100\n",
      "6335/6335 [==============================] - 10s 2ms/step - loss: 0.4122\n",
      "Epoch 77/100\n",
      "6335/6335 [==============================] - 10s 2ms/step - loss: 0.4078\n",
      "Epoch 78/100\n",
      "6335/6335 [==============================] - 10s 2ms/step - loss: 0.4045\n",
      "Epoch 79/100\n",
      "6335/6335 [==============================] - 11s 2ms/step - loss: 0.4055\n",
      "Epoch 80/100\n",
      "6335/6335 [==============================] - 10s 2ms/step - loss: 0.4010\n",
      "Epoch 81/100\n",
      "6335/6335 [==============================] - 11s 2ms/step - loss: 0.4009\n",
      "Epoch 82/100\n",
      "6335/6335 [==============================] - 10s 2ms/step - loss: 0.3951\n",
      "Epoch 83/100\n",
      "6335/6335 [==============================] - 10s 2ms/step - loss: 0.3954\n",
      "Epoch 84/100\n",
      "6335/6335 [==============================] - 10s 2ms/step - loss: 0.3901\n",
      "Epoch 85/100\n",
      "6335/6335 [==============================] - 10s 2ms/step - loss: 0.3886\n",
      "Epoch 86/100\n",
      "6335/6335 [==============================] - 11s 2ms/step - loss: 0.3864\n",
      "Epoch 87/100\n",
      "6335/6335 [==============================] - 11s 2ms/step - loss: 0.3844\n",
      "Epoch 88/100\n",
      "6335/6335 [==============================] - 10s 2ms/step - loss: 0.3801\n",
      "Epoch 89/100\n",
      "6335/6335 [==============================] - 10s 2ms/step - loss: 0.3805\n",
      "Epoch 90/100\n",
      "6335/6335 [==============================] - 13s 2ms/step - loss: 0.3834\n",
      "Epoch 91/100\n",
      "6335/6335 [==============================] - 14s 2ms/step - loss: 0.3806\n",
      "Epoch 92/100\n",
      "6335/6335 [==============================] - 10s 2ms/step - loss: 0.3796\n",
      "Epoch 93/100\n",
      "6335/6335 [==============================] - 10s 2ms/step - loss: 0.3712\n",
      "Epoch 100/100\n",
      "6335/6335 [==============================] - 10s 2ms/step - loss: 0.3718: 0s - loss: 0.372\n"
     ]
    },
    {
     "data": {
      "text/plain": [
       "<keras.callbacks.callbacks.History at 0x1cf63934448>"
      ]
     },
     "execution_count": 345,
     "metadata": {},
     "output_type": "execute_result"
    }
   ],
   "source": [
    "lstm_model = Sequential()\n",
    "lstm_model.add(Embedding(total_words, 100, input_length = input_len))\n",
    "lstm_model.add(LSTM(150))\n",
    "lstm_model.add(Dropout(0.1))\n",
    "lstm_model.add(Dense(total_words, activation = 'softmax'))\n",
    "lstm_model.compile(loss = 'categorical_crossentropy', optimizer = 'adam')\n",
    "\n",
    "# Use 100 epoch for efficacy\n",
    "lstm_model.fit(predictors, label, epochs = 100, verbose = 1)"
   ]
  },
  {
   "cell_type": "markdown",
   "metadata": {},
   "source": [
    "# Part - 4: Bidirectional LSTM - Simple word embedding model¶"
   ]
  },
  {
   "cell_type": "code",
   "execution_count": 346,
   "metadata": {},
   "outputs": [
    {
     "name": "stdout",
     "output_type": "stream",
     "text": [
      "Epoch 1/100\n",
      "6335/6335 [==============================] - 16s 3ms/step - loss: 7.2020\n",
      "Epoch 2/100\n",
      "6335/6335 [==============================] - 11s 2ms/step - loss: 6.6600\n",
      "Epoch 3/100\n",
      "6335/6335 [==============================] - 11s 2ms/step - loss: 6.4667\n",
      "Epoch 4/100\n",
      "6335/6335 [==============================] - 11s 2ms/step - loss: 6.2839\n",
      "Epoch 5/100\n",
      "6335/6335 [==============================] - 11s 2ms/step - loss: 6.1031\n",
      "Epoch 6/100\n",
      "6335/6335 [==============================] - 11s 2ms/step - loss: 5.9080: 0s - loss: 5.908\n",
      "Epoch 7/100\n",
      "6335/6335 [==============================] - 11s 2ms/step - loss: 5.7024\n",
      "Epoch 8/100\n",
      "6335/6335 [==============================] - 11s 2ms/step - loss: 5.4927\n",
      "Epoch 9/100\n",
      "6335/6335 [==============================] - 11s 2ms/step - loss: 5.2623\n",
      "Epoch 10/100\n",
      "6335/6335 [==============================] - 11s 2ms/step - loss: 5.0343\n",
      "Epoch 11/100\n",
      "6335/6335 [==============================] - 11s 2ms/step - loss: 4.8059\n",
      "Epoch 12/100\n",
      "6335/6335 [==============================] - 11s 2ms/step - loss: 4.5748: 2s\n",
      "Epoch 13/100\n",
      "6335/6335 [==============================] - 11s 2ms/step - loss: 4.3559\n",
      "Epoch 14/100\n",
      "6335/6335 [==============================] - 11s 2ms/step - loss: 4.1225\n",
      "Epoch 15/100\n",
      "6335/6335 [==============================] - 11s 2ms/step - loss: 3.9091\n",
      "Epoch 16/100\n",
      "6335/6335 [==============================] - 11s 2ms/step - loss: 3.7027: 0s - los\n",
      "Epoch 17/100\n",
      "6335/6335 [==============================] - 11s 2ms/step - loss: 3.4937\n",
      "Epoch 18/100\n",
      "6335/6335 [==============================] - 11s 2ms/step - loss: 3.3154\n",
      "Epoch 19/100\n",
      "6335/6335 [==============================] - 11s 2ms/step - loss: 3.1364\n",
      "Epoch 20/100\n",
      "6335/6335 [==============================] - 11s 2ms/step - loss: 2.9487\n",
      "Epoch 21/100\n",
      "6335/6335 [==============================] - 12s 2ms/step - loss: 2.7784\n",
      "Epoch 22/100\n",
      "6335/6335 [==============================] - 11s 2ms/step - loss: 2.6241\n",
      "Epoch 23/100\n",
      "6335/6335 [==============================] - 11s 2ms/step - loss: 2.4594\n",
      "Epoch 24/100\n",
      "6335/6335 [==============================] - 11s 2ms/step - loss: 2.3382\n",
      "Epoch 25/100\n",
      "6335/6335 [==============================] - 11s 2ms/step - loss: 2.1880\n",
      "Epoch 26/100\n",
      "6335/6335 [==============================] - 11s 2ms/step - loss: 2.0638: 0s - loss: 2.\n",
      "Epoch 27/100\n",
      "6335/6335 [==============================] - 11s 2ms/step - loss: 1.9552\n",
      "Epoch 28/100\n",
      "6335/6335 [==============================] - 11s 2ms/step - loss: 1.8527\n",
      "Epoch 29/100\n",
      "6335/6335 [==============================] - 11s 2ms/step - loss: 1.7541\n",
      "Epoch 30/100\n",
      "6335/6335 [==============================] - 11s 2ms/step - loss: 1.6528\n",
      "Epoch 31/100\n",
      "6335/6335 [==============================] - 11s 2ms/step - loss: 1.5628\n",
      "Epoch 32/100\n",
      "6335/6335 [==============================] - 11s 2ms/step - loss: 1.4862\n",
      "Epoch 33/100\n",
      "6335/6335 [==============================] - 11s 2ms/step - loss: 1.4075\n",
      "Epoch 34/100\n",
      "6335/6335 [==============================] - 11s 2ms/step - loss: 1.3410\n",
      "Epoch 35/100\n",
      "6335/6335 [==============================] - 11s 2ms/step - loss: 1.2736\n",
      "Epoch 36/100\n",
      "6335/6335 [==============================] - 11s 2ms/step - loss: 1.2129\n",
      "Epoch 37/100\n",
      "6335/6335 [==============================] - 11s 2ms/step - loss: 1.1502\n",
      "Epoch 38/100\n",
      "6335/6335 [==============================] - 11s 2ms/step - loss: 1.0891- ETA: 0s - loss: 1.\n",
      "Epoch 39/100\n",
      "6335/6335 [==============================] - 11s 2ms/step - loss: 1.0403: 0s - los\n",
      "Epoch 40/100\n",
      "6335/6335 [==============================] - 11s 2ms/step - loss: 1.0079\n",
      "Epoch 41/100\n",
      "6335/6335 [==============================] - 13s 2ms/step - loss: 0.9648\n",
      "Epoch 42/100\n",
      "6335/6335 [==============================] - 14s 2ms/step - loss: 0.9252\n",
      "Epoch 43/100\n",
      "6335/6335 [==============================] - 14s 2ms/step - loss: 0.8864\n",
      "Epoch 44/100\n",
      "6335/6335 [==============================] - 12s 2ms/step - loss: 0.8446\n",
      "Epoch 45/100\n",
      "6335/6335 [==============================] - 12s 2ms/step - loss: 0.8169\n",
      "Epoch 46/100\n",
      "6335/6335 [==============================] - 12s 2ms/step - loss: 0.7982\n",
      "Epoch 47/100\n",
      "6335/6335 [==============================] - 9s 1ms/step - loss: 0.7562\n",
      "Epoch 48/100\n",
      "6335/6335 [==============================] - 9s 1ms/step - loss: 0.7470\n",
      "Epoch 49/100\n",
      "6335/6335 [==============================] - 9s 1ms/step - loss: 0.7168\n",
      "Epoch 50/100\n",
      "6335/6335 [==============================] - 9s 1ms/step - loss: 0.6876\n",
      "Epoch 51/100\n",
      "6335/6335 [==============================] - 9s 1ms/step - loss: 0.6520\n",
      "Epoch 52/100\n",
      "6335/6335 [==============================] - 9s 1ms/step - loss: 0.6404\n",
      "Epoch 53/100\n",
      "6335/6335 [==============================] - 9s 1ms/step - loss: 0.6328A:  - ETA: 0s - loss: 0\n",
      "Epoch 54/100\n",
      "6335/6335 [==============================] - 9s 1ms/step - loss: 0.6329\n",
      "Epoch 55/100\n",
      "6335/6335 [==============================] - 9s 1ms/step - loss: 0.6013\n",
      "Epoch 56/100\n",
      "6335/6335 [==============================] - 9s 1ms/step - loss: 0.5766A: 1s\n",
      "Epoch 57/100\n",
      "6335/6335 [==============================] - 9s 1ms/step - loss: 0.5642\n",
      "Epoch 58/100\n",
      "6335/6335 [==============================] - 9s 1ms/step - loss: 0.5487\n",
      "Epoch 59/100\n",
      "6335/6335 [==============================] - 9s 1ms/step - loss: 0.5384\n",
      "Epoch 60/100\n",
      "6335/6335 [==============================] - 9s 1ms/step - loss: 0.5360\n",
      "Epoch 61/100\n",
      "6335/6335 [==============================] - 9s 1ms/step - loss: 0.5329A: 0s - loss: 0.\n",
      "Epoch 62/100\n",
      "6335/6335 [==============================] - 9s 1ms/step - loss: 0.5317\n",
      "Epoch 63/100\n",
      "6335/6335 [==============================] - 9s 1ms/step - loss: 0.5186\n",
      "Epoch 64/100\n",
      "6335/6335 [==============================] - 9s 1ms/step - loss: 0.5055\n",
      "Epoch 65/100\n",
      "6335/6335 [==============================] - 9s 1ms/step - loss: 0.4885\n",
      "Epoch 66/100\n",
      "6335/6335 [==============================] - 9s 1ms/step - loss: 0.4773\n",
      "Epoch 67/100\n",
      "6335/6335 [==============================] - 9s 1ms/step - loss: 0.4667\n",
      "Epoch 68/100\n",
      "6335/6335 [==============================] - 9s 1ms/step - loss: 0.4766\n",
      "Epoch 69/100\n",
      "6335/6335 [==============================] - 9s 1ms/step - loss: 0.4845\n",
      "Epoch 70/100\n",
      "6335/6335 [==============================] - 9s 1ms/step - loss: 0.4592\n",
      "Epoch 71/100\n",
      "6335/6335 [==============================] - 9s 1ms/step - loss: 0.4625\n",
      "Epoch 72/100\n",
      "6335/6335 [==============================] - 9s 1ms/step - loss: 0.4557\n",
      "Epoch 73/100\n",
      "6335/6335 [==============================] - 10s 2ms/step - loss: 0.4515\n",
      "Epoch 74/100\n",
      "6335/6335 [==============================] - 9s 1ms/step - loss: 0.4420\n",
      "Epoch 75/100\n",
      "6335/6335 [==============================] - 9s 1ms/step - loss: 0.4408\n",
      "Epoch 76/100\n",
      "6335/6335 [==============================] - ETA: 0s - loss: 0.436 - 11s 2ms/step - loss: 0.4354\n",
      "Epoch 77/100\n",
      "6335/6335 [==============================] - 9s 1ms/step - loss: 0.4319\n",
      "Epoch 78/100\n",
      "6335/6335 [==============================] - 9s 1ms/step - loss: 0.4303\n",
      "Epoch 79/100\n",
      "6335/6335 [==============================] - 9s 1ms/step - loss: 0.4248\n",
      "Epoch 80/100\n",
      "6335/6335 [==============================] - 9s 1ms/step - loss: 0.4243\n",
      "Epoch 81/100\n",
      "6335/6335 [==============================] - 9s 1ms/step - loss: 0.4236A: 0s - los\n",
      "Epoch 82/100\n",
      "6335/6335 [==============================] - 9s 1ms/step - loss: 0.4291\n",
      "Epoch 83/100\n",
      "6335/6335 [==============================] - 9s 1ms/step - loss: 0.4239\n",
      "Epoch 84/100\n",
      "6335/6335 [==============================] - 9s 1ms/step - loss: 0.4314\n",
      "Epoch 85/100\n",
      "6335/6335 [==============================] - 9s 1ms/step - loss: 0.4340\n",
      "Epoch 86/100\n",
      "6335/6335 [==============================] - 9s 1ms/step - loss: 0.4215\n",
      "Epoch 87/100\n",
      "6335/6335 [==============================] - 9s 1ms/step - loss: 0.4152\n",
      "Epoch 88/100\n",
      "6335/6335 [==============================] - 9s 1ms/step - loss: 0.4119\n",
      "Epoch 89/100\n",
      "6335/6335 [==============================] - 9s 1ms/step - loss: 0.4025\n",
      "Epoch 90/100\n",
      "6335/6335 [==============================] - 9s 1ms/step - loss: 0.4000\n",
      "Epoch 91/100\n",
      "6335/6335 [==============================] - 9s 1ms/step - loss: 0.3935\n",
      "Epoch 92/100\n",
      "6335/6335 [==============================] - 9s 1ms/step - loss: 0.3957\n",
      "Epoch 93/100\n",
      "6335/6335 [==============================] - 9s 1ms/step - loss: 0.3981\n",
      "Epoch 94/100\n",
      "6335/6335 [==============================] - 9s 1ms/step - loss: 0.4045\n",
      "Epoch 95/100\n"
     ]
    },
    {
     "name": "stdout",
     "output_type": "stream",
     "text": [
      "6335/6335 [==============================] - 9s 1ms/step - loss: 0.4192\n",
      "Epoch 96/100\n",
      "6335/6335 [==============================] - 9s 1ms/step - loss: 0.4042\n",
      "Epoch 97/100\n",
      "6335/6335 [==============================] - 9s 1ms/step - loss: 0.3920A: 0s - loss: \n",
      "Epoch 98/100\n",
      "6335/6335 [==============================] - 9s 1ms/step - loss: 0.3888\n",
      "Epoch 99/100\n",
      "6335/6335 [==============================] - 9s 1ms/step - loss: 0.3947\n",
      "Epoch 100/100\n",
      "6335/6335 [==============================] - 9s 1ms/step - loss: 0.3927\n"
     ]
    },
    {
     "data": {
      "text/plain": [
       "<keras.callbacks.callbacks.History at 0x1cf6c9f2e08>"
      ]
     },
     "execution_count": 346,
     "metadata": {},
     "output_type": "execute_result"
    }
   ],
   "source": [
    "bi_lstm_model = Sequential()\n",
    "bi_lstm_model.add(Embedding(total_words, 100, input_length = input_len))\n",
    "bi_lstm_model.add(Bidirectional(LSTM(100)))\n",
    "bi_lstm_model.add(Dropout(0.1))\n",
    "bi_lstm_model.add(Dense(total_words, activation = 'softmax'))\n",
    "bi_lstm_model.compile(loss = 'categorical_crossentropy', optimizer = 'adam')\n",
    "\n",
    "# Use 100 epoch for efficacy\n",
    "bi_lstm_model.fit(predictors, label, epochs = 100, verbose = 1)"
   ]
  },
  {
   "cell_type": "markdown",
   "metadata": {},
   "source": [
    "# Using GloVe embedding"
   ]
  },
  {
   "cell_type": "code",
   "execution_count": 347,
   "metadata": {},
   "outputs": [
    {
     "name": "stdout",
     "output_type": "stream",
     "text": [
      "2580\n"
     ]
    }
   ],
   "source": [
    "word_index = tokenizer.word_index\n",
    "print(len(word_index))"
   ]
  },
  {
   "cell_type": "code",
   "execution_count": 348,
   "metadata": {},
   "outputs": [],
   "source": [
    "def cal_embedding_matrix(word_index):\n",
    "    embedded_words = {}\n",
    "    with open('glove.6B.100d.txt', encoding=\"utf8\") as file:\n",
    "        for line in file:\n",
    "            words, coeff = line.split(maxsplit=1)\n",
    "            coeff = np.array(coeff.split(),dtype = float)\n",
    "            embedded_words[words] = coeff\n",
    "\n",
    "    embedding_matrix = np.zeros((len(word_index)+1, 100))\n",
    "    for word, i in word_index.items():\n",
    "        embedding_vector = embedded_words.get(word)\n",
    "        if embedding_vector is not None:\n",
    "            embedding_matrix[i] = embedding_vector\n",
    "    return embedding_matrix"
   ]
  },
  {
   "cell_type": "code",
   "execution_count": 349,
   "metadata": {},
   "outputs": [],
   "source": [
    "embedding_matrix = cal_embedding_matrix(word_index)"
   ]
  },
  {
   "cell_type": "code",
   "execution_count": 350,
   "metadata": {},
   "outputs": [
    {
     "name": "stdout",
     "output_type": "stream",
     "text": [
      "Shape of embedding matrix: (2581, 100)\n"
     ]
    }
   ],
   "source": [
    "print('Shape of embedding matrix:',embedding_matrix.shape)"
   ]
  },
  {
   "cell_type": "markdown",
   "metadata": {},
   "source": [
    "# Part - 5 : Vanilla RNN - Glove embedding model"
   ]
  },
  {
   "cell_type": "code",
   "execution_count": 351,
   "metadata": {},
   "outputs": [
    {
     "name": "stdout",
     "output_type": "stream",
     "text": [
      "Epoch 1/100\n",
      "6335/6335 [==============================] - 9s 1ms/step - loss: 7.2204\n",
      "Epoch 2/100\n",
      "6335/6335 [==============================] - 6s 970us/step - loss: 6.5116\n",
      "Epoch 3/100\n",
      "6335/6335 [==============================] - 5s 856us/step - loss: 6.0310\n",
      "Epoch 4/100\n",
      "6335/6335 [==============================] - 5s 847us/step - loss: 5.5160\n",
      "Epoch 5/100\n",
      "6335/6335 [==============================] - 5s 856us/step - loss: 4.9666\n",
      "Epoch 6/100\n",
      "6335/6335 [==============================] - 5s 828us/step - loss: 4.4099\n",
      "Epoch 7/100\n",
      "6335/6335 [==============================] - 5s 840us/step - loss: 3.8605\n",
      "Epoch 8/100\n",
      "6335/6335 [==============================] - 5s 843us/step - loss: 3.3268\n",
      "Epoch 9/100\n",
      "6335/6335 [==============================] - 5s 831us/step - loss: 2.8285\n",
      "Epoch 10/100\n",
      "6335/6335 [==============================] - 5s 831us/step - loss: 2.3970\n",
      "Epoch 11/100\n",
      "6335/6335 [==============================] - 5s 833us/step - loss: 2.0333\n",
      "Epoch 12/100\n",
      "6335/6335 [==============================] - 5s 823us/step - loss: 1.7333\n",
      "Epoch 13/100\n",
      "6335/6335 [==============================] - 5s 823us/step - loss: 1.4877\n",
      "Epoch 14/100\n",
      "6335/6335 [==============================] - 5s 843us/step - loss: 1.2799\n",
      "Epoch 15/100\n",
      "6335/6335 [==============================] - 5s 832us/step - loss: 1.1287\n",
      "Epoch 16/100\n",
      "6335/6335 [==============================] - 5s 829us/step - loss: 1.0022\n",
      "Epoch 17/100\n",
      "6335/6335 [==============================] - 5s 818us/step - loss: 0.9020\n",
      "Epoch 18/100\n",
      "6335/6335 [==============================] - 5s 832us/step - loss: 0.8099\n",
      "Epoch 19/100\n",
      "6335/6335 [==============================] - 5s 828us/step - loss: 0.7467\n",
      "Epoch 20/100\n",
      "6335/6335 [==============================] - 5s 821us/step - loss: 0.6899\n",
      "Epoch 21/100\n",
      "6335/6335 [==============================] - 5s 823us/step - loss: 0.6458\n",
      "Epoch 22/100\n",
      "6335/6335 [==============================] - 5s 823us/step - loss: 0.6027\n",
      "Epoch 23/100\n",
      "6335/6335 [==============================] - 5s 819us/step - loss: 0.5783\n",
      "Epoch 24/100\n",
      "6335/6335 [==============================] - 5s 820us/step - loss: 0.5595\n",
      "Epoch 25/100\n",
      "6335/6335 [==============================] - 5s 841us/step - loss: 0.5306\n",
      "Epoch 26/100\n",
      "6335/6335 [==============================] - 5s 826us/step - loss: 0.5229\n",
      "Epoch 27/100\n",
      "6335/6335 [==============================] - 5s 824us/step - loss: 0.5031\n",
      "Epoch 28/100\n",
      "6335/6335 [==============================] - 5s 827us/step - loss: 0.4960\n",
      "Epoch 29/100\n",
      "6335/6335 [==============================] - 5s 837us/step - loss: 0.4790\n",
      "Epoch 30/100\n",
      "6335/6335 [==============================] - 5s 835us/step - loss: 0.4745\n",
      "Epoch 31/100\n",
      "6335/6335 [==============================] - 5s 829us/step - loss: 0.4651\n",
      "Epoch 32/100\n",
      "6335/6335 [==============================] - 5s 830us/step - loss: 0.4637\n",
      "Epoch 33/100\n",
      "6335/6335 [==============================] - 5s 823us/step - loss: 0.4580\n",
      "Epoch 34/100\n",
      "6335/6335 [==============================] - 5s 823us/step - loss: 0.4469\n",
      "Epoch 35/100\n",
      "6335/6335 [==============================] - 5s 821us/step - loss: 0.4544\n",
      "Epoch 36/100\n",
      "6335/6335 [==============================] - 5s 837us/step - loss: 0.4444\n",
      "Epoch 37/100\n",
      "6335/6335 [==============================] - 5s 835us/step - loss: 0.4485\n",
      "Epoch 38/100\n",
      "6335/6335 [==============================] - 5s 827us/step - loss: 0.4431\n",
      "Epoch 39/100\n",
      "6335/6335 [==============================] - 5s 820us/step - loss: 0.4338\n",
      "Epoch 40/100\n",
      "6335/6335 [==============================] - 5s 819us/step - loss: 0.4337\n",
      "Epoch 41/100\n",
      "6335/6335 [==============================] - 5s 829us/step - loss: 0.4299\n",
      "Epoch 42/100\n",
      "6335/6335 [==============================] - 5s 827us/step - loss: 0.4344\n",
      "Epoch 43/100\n",
      "6335/6335 [==============================] - 5s 823us/step - loss: 0.4307\n",
      "Epoch 44/100\n",
      "6335/6335 [==============================] - 5s 821us/step - loss: 0.4328\n",
      "Epoch 45/100\n",
      "6335/6335 [==============================] - 5s 829us/step - loss: 0.4285\n",
      "Epoch 46/100\n",
      "6335/6335 [==============================] - 5s 824us/step - loss: 0.4231\n",
      "Epoch 47/100\n",
      "6335/6335 [==============================] - 5s 825us/step - loss: 0.4206\n",
      "Epoch 48/100\n",
      "6335/6335 [==============================] - 5s 842us/step - loss: 0.4286\n",
      "Epoch 49/100\n",
      "6335/6335 [==============================] - 5s 831us/step - loss: 0.4291\n",
      "Epoch 50/100\n",
      "6335/6335 [==============================] - 5s 835us/step - loss: 0.4190\n",
      "Epoch 51/100\n",
      "6335/6335 [==============================] - 5s 824us/step - loss: 0.4155\n",
      "Epoch 52/100\n",
      "6335/6335 [==============================] - 5s 823us/step - loss: 0.4199\n",
      "Epoch 53/100\n",
      "6335/6335 [==============================] - 5s 828us/step - loss: 0.4239\n",
      "Epoch 54/100\n",
      "6335/6335 [==============================] - 5s 822us/step - loss: 0.4217\n",
      "Epoch 55/100\n",
      "6335/6335 [==============================] - 5s 822us/step - loss: 0.4194\n",
      "Epoch 56/100\n",
      "6335/6335 [==============================] - 5s 822us/step - loss: 0.4208\n",
      "Epoch 57/100\n",
      "6335/6335 [==============================] - 5s 823us/step - loss: 0.4180\n",
      "Epoch 58/100\n",
      "6335/6335 [==============================] - 5s 817us/step - loss: 0.4235\n",
      "Epoch 59/100\n",
      "6335/6335 [==============================] - 5s 843us/step - loss: 0.4134\n",
      "Epoch 60/100\n",
      "6335/6335 [==============================] - 5s 845us/step - loss: 0.4120\n",
      "Epoch 61/100\n",
      "6335/6335 [==============================] - 5s 820us/step - loss: 0.4086\n",
      "Epoch 62/100\n",
      "6335/6335 [==============================] - 5s 820us/step - loss: 0.4118\n",
      "Epoch 63/100\n",
      "6335/6335 [==============================] - 5s 822us/step - loss: 0.4153\n",
      "Epoch 64/100\n",
      "6335/6335 [==============================] - 5s 827us/step - loss: 0.4102\n",
      "Epoch 65/100\n",
      "6335/6335 [==============================] - 5s 829us/step - loss: 0.4144\n",
      "Epoch 66/100\n",
      "6335/6335 [==============================] - 5s 824us/step - loss: 0.4221\n",
      "Epoch 67/100\n",
      "6335/6335 [==============================] - 5s 822us/step - loss: 0.4074\n",
      "Epoch 68/100\n",
      "6335/6335 [==============================] - 5s 828us/step - loss: 0.4107\n",
      "Epoch 69/100\n",
      "6335/6335 [==============================] - 5s 825us/step - loss: 0.4146\n",
      "Epoch 70/100\n",
      "6335/6335 [==============================] - 5s 819us/step - loss: 0.4108\n",
      "Epoch 71/100\n",
      "6335/6335 [==============================] - 5s 839us/step - loss: 0.4003\n",
      "Epoch 72/100\n",
      "6335/6335 [==============================] - 5s 828us/step - loss: 0.4085\n",
      "Epoch 73/100\n",
      "6335/6335 [==============================] - 5s 822us/step - loss: 0.4071\n",
      "Epoch 74/100\n",
      "6335/6335 [==============================] - 5s 835us/step - loss: 0.4106\n",
      "Epoch 75/100\n",
      "6335/6335 [==============================] - 5s 829us/step - loss: 0.4055\n",
      "Epoch 76/100\n",
      "6335/6335 [==============================] - 5s 829us/step - loss: 0.4109\n",
      "Epoch 77/100\n",
      "6335/6335 [==============================] - 5s 836us/step - loss: 0.4149\n",
      "Epoch 78/100\n",
      "6335/6335 [==============================] - 5s 829us/step - loss: 0.4141\n",
      "Epoch 79/100\n",
      "6335/6335 [==============================] - 5s 827us/step - loss: 0.4130\n",
      "Epoch 80/100\n",
      "6335/6335 [==============================] - 5s 823us/step - loss: 0.4086\n",
      "Epoch 81/100\n",
      "6335/6335 [==============================] - 5s 827us/step - loss: 0.4019\n",
      "Epoch 82/100\n",
      "6335/6335 [==============================] - 5s 839us/step - loss: 0.4061\n",
      "Epoch 83/100\n",
      "6335/6335 [==============================] - 5s 832us/step - loss: 0.4026\n",
      "Epoch 84/100\n",
      "6335/6335 [==============================] - 5s 827us/step - loss: 0.4065\n",
      "Epoch 85/100\n",
      "6335/6335 [==============================] - 5s 854us/step - loss: 0.4070\n",
      "Epoch 86/100\n",
      "6335/6335 [==============================] - 5s 815us/step - loss: 0.4026\n",
      "Epoch 87/100\n",
      "6335/6335 [==============================] - 5s 826us/step - loss: 0.4040\n",
      "Epoch 88/100\n",
      "6335/6335 [==============================] - 5s 831us/step - loss: 0.3985\n",
      "Epoch 89/100\n",
      "6335/6335 [==============================] - 5s 839us/step - loss: 0.3972  - ETA: 0s - loss:\n",
      "Epoch 90/100\n",
      "6335/6335 [==============================] - 5s 823us/step - loss: 0.4071\n",
      "Epoch 91/100\n",
      "6335/6335 [==============================] - 5s 824us/step - loss: 0.4025\n",
      "Epoch 92/100\n",
      "6335/6335 [==============================] - 5s 822us/step - loss: 0.4125\n",
      "Epoch 93/100\n",
      "6335/6335 [==============================] - 5s 824us/step - loss: 0.4084\n",
      "Epoch 94/100\n",
      "6335/6335 [==============================] - 5s 859us/step - loss: 0.4048\n",
      "Epoch 95/100\n"
     ]
    },
    {
     "name": "stdout",
     "output_type": "stream",
     "text": [
      "6335/6335 [==============================] - 5s 812us/step - loss: 0.4008\n",
      "Epoch 96/100\n",
      "6335/6335 [==============================] - 5s 828us/step - loss: 0.4041\n",
      "Epoch 97/100\n",
      "6335/6335 [==============================] - 5s 829us/step - loss: 0.4082\n",
      "Epoch 98/100\n",
      "6335/6335 [==============================] - 5s 825us/step - loss: 0.3999\n",
      "Epoch 99/100\n",
      "6335/6335 [==============================] - 5s 822us/step - loss: 0.4033\n",
      "Epoch 100/100\n",
      "6335/6335 [==============================] - 5s 843us/step - loss: 0.3973\n"
     ]
    },
    {
     "data": {
      "text/plain": [
       "<keras.callbacks.callbacks.History at 0x1cf166b57c8>"
      ]
     },
     "execution_count": 351,
     "metadata": {},
     "output_type": "execute_result"
    }
   ],
   "source": [
    "rnn_glove_model = Sequential()\n",
    "rnn_glove_model.add(Embedding(len(word_index)+1, 100, weights=[embedding_matrix], input_length = input_len))\n",
    "rnn_glove_model.add(SimpleRNN(150))\n",
    "rnn_glove_model.add(Dropout(0.1))\n",
    "rnn_glove_model.add(Dense(total_words, activation = 'softmax'))\n",
    "rnn_glove_model.compile(loss = 'categorical_crossentropy', optimizer = 'adam')\n",
    "\n",
    "# Use 100 epoch for efficacy\n",
    "rnn_glove_model.fit(predictors, label, epochs = 100, verbose = 1)"
   ]
  },
  {
   "cell_type": "markdown",
   "metadata": {},
   "source": [
    "# PART - 6 : LSTM - Glove embedding model"
   ]
  },
  {
   "cell_type": "code",
   "execution_count": 352,
   "metadata": {},
   "outputs": [
    {
     "name": "stdout",
     "output_type": "stream",
     "text": [
      "Epoch 1/100\n",
      "6335/6335 [==============================] - 11s 2ms/step - loss: 7.1910\n",
      "Epoch 2/100\n",
      "6335/6335 [==============================] - 9s 1ms/step - loss: 6.6549\n",
      "Epoch 3/100\n",
      "6335/6335 [==============================] - 8s 1ms/step - loss: 6.4386\n",
      "Epoch 4/100\n",
      "6335/6335 [==============================] - 8s 1ms/step - loss: 6.1647\n",
      "Epoch 5/100\n",
      "6335/6335 [==============================] - 8s 1ms/step - loss: 5.8399\n",
      "Epoch 6/100\n",
      "6335/6335 [==============================] - 8s 1ms/step - loss: 5.4920\n",
      "Epoch 7/100\n",
      "6335/6335 [==============================] - 8s 1ms/step - loss: 5.1284\n",
      "Epoch 8/100\n",
      "6335/6335 [==============================] - 8s 1ms/step - loss: 4.7625\n",
      "Epoch 9/100\n",
      "6335/6335 [==============================] - 8s 1ms/step - loss: 4.3906\n",
      "Epoch 10/100\n",
      "6335/6335 [==============================] - 8s 1ms/step - loss: 4.0134\n",
      "Epoch 11/100\n",
      "6335/6335 [==============================] - 8s 1ms/step - loss: 3.6499\n",
      "Epoch 12/100\n",
      "6335/6335 [==============================] - 8s 1ms/step - loss: 3.2953\n",
      "Epoch 13/100\n",
      "6335/6335 [==============================] - 8s 1ms/step - loss: 2.9554\n",
      "Epoch 14/100\n",
      "6335/6335 [==============================] - 8s 1ms/step - loss: 2.6555\n",
      "Epoch 15/100\n",
      "6335/6335 [==============================] - 8s 1ms/step - loss: 2.3752\n",
      "Epoch 16/100\n",
      "6335/6335 [==============================] - 8s 1ms/step - loss: 2.1264\n",
      "Epoch 17/100\n",
      "6335/6335 [==============================] - 8s 1ms/step - loss: 1.9053\n",
      "Epoch 18/100\n",
      "6335/6335 [==============================] - 8s 1ms/step - loss: 1.7063\n",
      "Epoch 19/100\n",
      "6335/6335 [==============================] - 8s 1ms/step - loss: 1.5369\n",
      "Epoch 20/100\n",
      "6335/6335 [==============================] - 8s 1ms/step - loss: 1.3845\n",
      "Epoch 21/100\n",
      "6335/6335 [==============================] - 8s 1ms/step - loss: 1.2596\n",
      "Epoch 22/100\n",
      "6335/6335 [==============================] - 8s 1ms/step - loss: 1.1467\n",
      "Epoch 23/100\n",
      "6335/6335 [==============================] - 8s 1ms/step - loss: 1.0455\n",
      "Epoch 24/100\n",
      "6335/6335 [==============================] - 8s 1ms/step - loss: 0.9646\n",
      "Epoch 25/100\n",
      "6335/6335 [==============================] - 8s 1ms/step - loss: 0.8861\n",
      "Epoch 26/100\n",
      "6335/6335 [==============================] - 8s 1ms/step - loss: 0.8223\n",
      "Epoch 27/100\n",
      "6335/6335 [==============================] - 8s 1ms/step - loss: 0.7731A: 0s - loss: 0.76\n",
      "Epoch 28/100\n",
      "6335/6335 [==============================] - 8s 1ms/step - loss: 0.7185\n",
      "Epoch 29/100\n",
      "6335/6335 [==============================] - 8s 1ms/step - loss: 0.6802\n",
      "Epoch 30/100\n",
      "6335/6335 [==============================] - 8s 1ms/step - loss: 0.6392\n",
      "Epoch 31/100\n",
      "6335/6335 [==============================] - 8s 1ms/step - loss: 0.6112\n",
      "Epoch 32/100\n",
      "6335/6335 [==============================] - 8s 1ms/step - loss: 0.5874\n",
      "Epoch 33/100\n",
      "6335/6335 [==============================] - 8s 1ms/step - loss: 0.5565\n",
      "Epoch 34/100\n",
      "6335/6335 [==============================] - 8s 1ms/step - loss: 0.5357\n",
      "Epoch 35/100\n",
      "6335/6335 [==============================] - 9s 1ms/step - loss: 0.5215A: 0s - loss: 0.5\n",
      "Epoch 36/100\n",
      "6335/6335 [==============================] - 8s 1ms/step - loss: 0.5075\n",
      "Epoch 37/100\n",
      "6335/6335 [==============================] - 8s 1ms/step - loss: 0.4892\n",
      "Epoch 38/100\n",
      "6335/6335 [==============================] - 8s 1ms/step - loss: 0.4803\n",
      "Epoch 39/100\n",
      "6335/6335 [==============================] - 8s 1ms/step - loss: 0.4665\n",
      "Epoch 40/100\n",
      "6335/6335 [==============================] - 8s 1ms/step - loss: 0.4606\n",
      "Epoch 41/100\n",
      "6335/6335 [==============================] - 8s 1ms/step - loss: 0.4518\n",
      "Epoch 42/100\n",
      "6335/6335 [==============================] - 8s 1ms/step - loss: 0.4429\n",
      "Epoch 43/100\n",
      "6335/6335 [==============================] - 8s 1ms/step - loss: 0.4347\n",
      "Epoch 44/100\n",
      "6335/6335 [==============================] - 8s 1ms/step - loss: 0.4312\n",
      "Epoch 45/100\n",
      "6335/6335 [==============================] - 8s 1ms/step - loss: 0.4253\n",
      "Epoch 46/100\n",
      "6335/6335 [==============================] - 8s 1ms/step - loss: 0.4224\n",
      "Epoch 47/100\n",
      "6335/6335 [==============================] - 8s 1ms/step - loss: 0.4193\n",
      "Epoch 48/100\n",
      "6335/6335 [==============================] - 8s 1ms/step - loss: 0.4144\n",
      "Epoch 49/100\n",
      "6335/6335 [==============================] - 8s 1ms/step - loss: 0.4113\n",
      "Epoch 50/100\n",
      "6335/6335 [==============================] - 8s 1ms/step - loss: 0.4049\n",
      "Epoch 51/100\n",
      "6335/6335 [==============================] - 8s 1ms/step - loss: 0.4055\n",
      "Epoch 52/100\n",
      "6335/6335 [==============================] - 8s 1ms/step - loss: 0.4028\n",
      "Epoch 53/100\n",
      "6335/6335 [==============================] - 8s 1ms/step - loss: 0.3988\n",
      "Epoch 54/100\n",
      "6335/6335 [==============================] - 8s 1ms/step - loss: 0.3934\n",
      "Epoch 55/100\n",
      "6335/6335 [==============================] - 8s 1ms/step - loss: 0.3910\n",
      "Epoch 56/100\n",
      "6335/6335 [==============================] - 8s 1ms/step - loss: 0.3894\n",
      "Epoch 57/100\n",
      "6335/6335 [==============================] - 8s 1ms/step - loss: 0.3874\n",
      "Epoch 58/100\n",
      "6335/6335 [==============================] - 8s 1ms/step - loss: 0.3876\n",
      "Epoch 59/100\n",
      "6335/6335 [==============================] - 8s 1ms/step - loss: 0.3869\n",
      "Epoch 60/100\n",
      "6335/6335 [==============================] - 8s 1ms/step - loss: 0.3842\n",
      "Epoch 61/100\n",
      "6335/6335 [==============================] - 8s 1ms/step - loss: 0.3814\n",
      "Epoch 62/100\n",
      "6335/6335 [==============================] - 8s 1ms/step - loss: 0.3805\n",
      "Epoch 63/100\n",
      "6335/6335 [==============================] - 8s 1ms/step - loss: 0.3830\n",
      "Epoch 64/100\n",
      "6335/6335 [==============================] - 8s 1ms/step - loss: 0.3791\n",
      "Epoch 65/100\n",
      "6335/6335 [==============================] - 8s 1ms/step - loss: 0.3801\n",
      "Epoch 66/100\n",
      "6335/6335 [==============================] - 8s 1ms/step - loss: 0.3753\n",
      "Epoch 67/100\n",
      "6335/6335 [==============================] - 8s 1ms/step - loss: 0.3787\n",
      "Epoch 68/100\n",
      "6335/6335 [==============================] - 8s 1ms/step - loss: 0.3718\n",
      "Epoch 69/100\n",
      "6335/6335 [==============================] - 8s 1ms/step - loss: 0.3751\n",
      "Epoch 70/100\n",
      "6335/6335 [==============================] - 8s 1ms/step - loss: 0.3697\n",
      "Epoch 71/100\n",
      "6335/6335 [==============================] - 8s 1ms/step - loss: 0.3736\n",
      "Epoch 72/100\n",
      "6335/6335 [==============================] - 8s 1ms/step - loss: 0.3702\n",
      "Epoch 73/100\n",
      "6335/6335 [==============================] - 8s 1ms/step - loss: 0.3708\n",
      "Epoch 74/100\n",
      "6335/6335 [==============================] - 8s 1ms/step - loss: 0.3696\n",
      "Epoch 75/100\n",
      "6335/6335 [==============================] - 8s 1ms/step - loss: 0.3698\n",
      "Epoch 76/100\n",
      "6335/6335 [==============================] - 8s 1ms/step - loss: 0.3632\n",
      "Epoch 77/100\n",
      "6335/6335 [==============================] - 8s 1ms/step - loss: 0.3695\n",
      "Epoch 78/100\n",
      "6335/6335 [==============================] - 8s 1ms/step - loss: 0.3699\n",
      "Epoch 79/100\n",
      "6335/6335 [==============================] - 8s 1ms/step - loss: 0.3677\n",
      "Epoch 80/100\n",
      "6335/6335 [==============================] - 8s 1ms/step - loss: 0.3619\n",
      "Epoch 81/100\n",
      "6335/6335 [==============================] - 8s 1ms/step - loss: 0.3608\n",
      "Epoch 82/100\n",
      "6335/6335 [==============================] - 8s 1ms/step - loss: 0.3612\n",
      "Epoch 83/100\n",
      "6335/6335 [==============================] - 8s 1ms/step - loss: 0.3645\n",
      "Epoch 84/100\n",
      "6335/6335 [==============================] - 9s 1ms/step - loss: 0.3641A: 1s \n",
      "Epoch 85/100\n",
      "6335/6335 [==============================] - 13s 2ms/step - loss: 0.3607\n",
      "Epoch 86/100\n",
      "6335/6335 [==============================] - 11s 2ms/step - loss: 0.3599\n",
      "Epoch 87/100\n",
      "6335/6335 [==============================] - 12s 2ms/step - loss: 0.3601\n",
      "Epoch 88/100\n",
      "6335/6335 [==============================] - 11s 2ms/step - loss: 0.3576\n",
      "Epoch 89/100\n",
      "6335/6335 [==============================] - 11s 2ms/step - loss: 0.3556\n",
      "Epoch 90/100\n",
      "6335/6335 [==============================] - 11s 2ms/step - loss: 0.3594\n",
      "Epoch 91/100\n",
      "6335/6335 [==============================] - 12s 2ms/step - loss: 0.3589\n",
      "Epoch 92/100\n",
      "6335/6335 [==============================] - 12s 2ms/step - loss: 0.3595\n",
      "Epoch 93/100\n",
      "6335/6335 [==============================] - 12s 2ms/step - loss: 0.3549\n",
      "Epoch 94/100\n",
      "6335/6335 [==============================] - 11s 2ms/step - loss: 0.3584\n",
      "Epoch 95/100\n",
      "6335/6335 [==============================] - 11s 2ms/step - loss: 0.3573\n",
      "Epoch 96/100\n",
      "6335/6335 [==============================] - 10s 2ms/step - loss: 0.3554\n",
      "Epoch 97/100\n",
      "6335/6335 [==============================] - 10s 2ms/step - loss: 0.3582\n",
      "Epoch 98/100\n",
      "6335/6335 [==============================] - 10s 2ms/step - loss: 0.3542\n",
      "Epoch 99/100\n",
      "6335/6335 [==============================] - 10s 2ms/step - loss: 0.3512\n",
      "Epoch 100/100\n",
      "6335/6335 [==============================] - 10s 2ms/step - loss: 0.3571\n"
     ]
    },
    {
     "data": {
      "text/plain": [
       "<keras.callbacks.callbacks.History at 0x1cf30dc29c8>"
      ]
     },
     "execution_count": 352,
     "metadata": {},
     "output_type": "execute_result"
    }
   ],
   "source": [
    "lstm_glove_model = Sequential()\n",
    "lstm_glove_model.add(Embedding(len(word_index)+1, 100, weights=[embedding_matrix], input_length = input_len))\n",
    "lstm_glove_model.add(LSTM(150))\n",
    "lstm_glove_model.add(Dropout(0.1))\n",
    "lstm_glove_model.add(Dense(total_words, activation = 'softmax'))\n",
    "lstm_glove_model.compile(loss = 'categorical_crossentropy', optimizer = 'adam')\n",
    "\n",
    "# Use 100 epoch for efficacy\n",
    "lstm_glove_model.fit(predictors, label, epochs = 100, verbose = 1)"
   ]
  },
  {
   "cell_type": "markdown",
   "metadata": {},
   "source": [
    "# Part - 7: Bi-directional LSTM Glove embedding model¶"
   ]
  },
  {
   "cell_type": "code",
   "execution_count": 353,
   "metadata": {},
   "outputs": [
    {
     "name": "stdout",
     "output_type": "stream",
     "text": [
      "Epoch 1/100\n",
      "6335/6335 [==============================] - 15s 2ms/step - loss: 7.2175\n",
      "Epoch 2/100\n",
      "6335/6335 [==============================] - 12s 2ms/step - loss: 6.6402\n",
      "Epoch 3/100\n",
      "6335/6335 [==============================] - 11s 2ms/step - loss: 6.3552\n",
      "Epoch 4/100\n",
      "6335/6335 [==============================] - 11s 2ms/step - loss: 6.0228\n",
      "Epoch 5/100\n",
      "6335/6335 [==============================] - 11s 2ms/step - loss: 5.6673\n",
      "Epoch 6/100\n",
      "6335/6335 [==============================] - 11s 2ms/step - loss: 5.3047\n",
      "Epoch 7/100\n",
      "6335/6335 [==============================] - 11s 2ms/step - loss: 4.9352\n",
      "Epoch 8/100\n",
      "6335/6335 [==============================] - 11s 2ms/step - loss: 4.5481\n",
      "Epoch 9/100\n",
      "6335/6335 [==============================] - 11s 2ms/step - loss: 4.1594\n",
      "Epoch 10/100\n",
      "6335/6335 [==============================] - 11s 2ms/step - loss: 3.7788\n",
      "Epoch 11/100\n",
      "6335/6335 [==============================] - 11s 2ms/step - loss: 3.4017\n",
      "Epoch 12/100\n",
      "6335/6335 [==============================] - 11s 2ms/step - loss: 3.0425\n",
      "Epoch 13/100\n",
      "6335/6335 [==============================] - 11s 2ms/step - loss: 2.7172\n",
      "Epoch 14/100\n",
      "6335/6335 [==============================] - 11s 2ms/step - loss: 2.4173\n",
      "Epoch 15/100\n",
      "6335/6335 [==============================] - 11s 2ms/step - loss: 2.1422\n",
      "Epoch 16/100\n",
      "6335/6335 [==============================] - 11s 2ms/step - loss: 1.9009\n",
      "Epoch 17/100\n",
      "6335/6335 [==============================] - 11s 2ms/step - loss: 1.6934\n",
      "Epoch 18/100\n",
      "6335/6335 [==============================] - 11s 2ms/step - loss: 1.5113\n",
      "Epoch 19/100\n",
      "6335/6335 [==============================] - 11s 2ms/step - loss: 1.3555\n",
      "Epoch 20/100\n",
      "6335/6335 [==============================] - 11s 2ms/step - loss: 1.2391\n",
      "Epoch 21/100\n",
      "6335/6335 [==============================] - 11s 2ms/step - loss: 1.1186\n",
      "Epoch 22/100\n",
      "6335/6335 [==============================] - 11s 2ms/step - loss: 1.0244\n",
      "Epoch 23/100\n",
      "6335/6335 [==============================] - 11s 2ms/step - loss: 0.9430\n",
      "Epoch 24/100\n",
      "6335/6335 [==============================] - 11s 2ms/step - loss: 0.8623\n",
      "Epoch 25/100\n",
      "6335/6335 [==============================] - 11s 2ms/step - loss: 0.8093\n",
      "Epoch 26/100\n",
      "6335/6335 [==============================] - 11s 2ms/step - loss: 0.7546\n",
      "Epoch 27/100\n",
      "6335/6335 [==============================] - 11s 2ms/step - loss: 0.7065\n",
      "Epoch 28/100\n",
      "6335/6335 [==============================] - 11s 2ms/step - loss: 0.6686\n",
      "Epoch 29/100\n",
      "6335/6335 [==============================] - 11s 2ms/step - loss: 0.6315\n",
      "Epoch 30/100\n",
      "6335/6335 [==============================] - 11s 2ms/step - loss: 0.6011\n",
      "Epoch 31/100\n",
      "6335/6335 [==============================] - 11s 2ms/step - loss: 0.5879\n",
      "Epoch 32/100\n",
      "6335/6335 [==============================] - 11s 2ms/step - loss: 0.5557\n",
      "Epoch 33/100\n",
      "6335/6335 [==============================] - 11s 2ms/step - loss: 0.5435\n",
      "Epoch 34/100\n",
      "6335/6335 [==============================] - 11s 2ms/step - loss: 0.5162\n",
      "Epoch 35/100\n",
      "6335/6335 [==============================] - 11s 2ms/step - loss: 0.5040\n",
      "Epoch 36/100\n",
      "6335/6335 [==============================] - 11s 2ms/step - loss: 0.4918\n",
      "Epoch 37/100\n",
      "6335/6335 [==============================] - 11s 2ms/step - loss: 0.4789\n",
      "Epoch 38/100\n",
      "6335/6335 [==============================] - 12s 2ms/step - loss: 0.4727\n",
      "Epoch 39/100\n",
      "6335/6335 [==============================] - 11s 2ms/step - loss: 0.4631\n",
      "Epoch 40/100\n",
      "6335/6335 [==============================] - 11s 2ms/step - loss: 0.4507: 0s - loss: 0.4\n",
      "Epoch 41/100\n",
      "6335/6335 [==============================] - 11s 2ms/step - loss: 0.4454\n",
      "Epoch 42/100\n",
      "6335/6335 [==============================] - 11s 2ms/step - loss: 0.4467\n",
      "Epoch 43/100\n",
      "6335/6335 [==============================] - 11s 2ms/step - loss: 0.4379\n",
      "Epoch 44/100\n",
      "6335/6335 [==============================] - 11s 2ms/step - loss: 0.4363\n",
      "Epoch 45/100\n",
      "6335/6335 [==============================] - 12s 2ms/step - loss: 0.4282\n",
      "Epoch 46/100\n",
      "6335/6335 [==============================] - 11s 2ms/step - loss: 0.4283\n",
      "Epoch 47/100\n",
      "6335/6335 [==============================] - 11s 2ms/step - loss: 0.4182\n",
      "Epoch 48/100\n",
      "6335/6335 [==============================] - 12s 2ms/step - loss: 0.4135\n",
      "Epoch 49/100\n",
      "6335/6335 [==============================] - 11s 2ms/step - loss: 0.4134\n",
      "Epoch 50/100\n",
      "6335/6335 [==============================] - 11s 2ms/step - loss: 0.4094\n",
      "Epoch 51/100\n",
      "6335/6335 [==============================] - 11s 2ms/step - loss: 0.4089: 0s - l\n",
      "Epoch 52/100\n",
      "6335/6335 [==============================] - 11s 2ms/step - loss: 0.4062\n",
      "Epoch 53/100\n",
      "6335/6335 [==============================] - 12s 2ms/step - loss: 0.4035\n",
      "Epoch 54/100\n",
      "6335/6335 [==============================] - 12s 2ms/step - loss: 0.3997\n",
      "Epoch 55/100\n",
      "6335/6335 [==============================] - 12s 2ms/step - loss: 0.4008\n",
      "Epoch 56/100\n",
      "6335/6335 [==============================] - 12s 2ms/step - loss: 0.3953\n",
      "Epoch 57/100\n",
      "6335/6335 [==============================] - 12s 2ms/step - loss: 0.3966\n",
      "Epoch 58/100\n",
      "6335/6335 [==============================] - 12s 2ms/step - loss: 0.4085\n",
      "Epoch 59/100\n",
      "6335/6335 [==============================] - 12s 2ms/step - loss: 0.3913\n",
      "Epoch 60/100\n",
      "6335/6335 [==============================] - 12s 2ms/step - loss: 0.3888\n",
      "Epoch 61/100\n",
      "6335/6335 [==============================] - 12s 2ms/step - loss: 0.3893\n",
      "Epoch 62/100\n",
      "6335/6335 [==============================] - 12s 2ms/step - loss: 0.3921\n",
      "Epoch 63/100\n",
      "6335/6335 [==============================] - 12s 2ms/step - loss: 0.3910\n",
      "Epoch 64/100\n",
      "6335/6335 [==============================] - 12s 2ms/step - loss: 0.3845\n",
      "Epoch 65/100\n",
      "6335/6335 [==============================] - 12s 2ms/step - loss: 0.3774\n",
      "Epoch 66/100\n",
      "6335/6335 [==============================] - 12s 2ms/step - loss: 0.3758\n",
      "Epoch 67/100\n",
      "6335/6335 [==============================] - 12s 2ms/step - loss: 0.3871\n",
      "Epoch 68/100\n",
      "6335/6335 [==============================] - 12s 2ms/step - loss: 0.3804\n",
      "Epoch 69/100\n",
      "6335/6335 [==============================] - 12s 2ms/step - loss: 0.3805\n",
      "Epoch 70/100\n",
      "6335/6335 [==============================] - 12s 2ms/step - loss: 0.3730\n",
      "Epoch 71/100\n",
      "6335/6335 [==============================] - 12s 2ms/step - loss: 0.3752\n",
      "Epoch 72/100\n",
      "6335/6335 [==============================] - 12s 2ms/step - loss: 0.3759: 0s - loss: 0.\n",
      "Epoch 73/100\n",
      "6335/6335 [==============================] - 12s 2ms/step - loss: 0.3779\n",
      "Epoch 74/100\n",
      "6335/6335 [==============================] - 12s 2ms/step - loss: 0.3736\n",
      "Epoch 75/100\n",
      "6335/6335 [==============================] - 12s 2ms/step - loss: 0.3738\n",
      "Epoch 76/100\n",
      "6335/6335 [==============================] - 15s 2ms/step - loss: 0.3714\n",
      "Epoch 77/100\n",
      "6335/6335 [==============================] - 12s 2ms/step - loss: 0.3721\n",
      "Epoch 78/100\n",
      "6335/6335 [==============================] - 12s 2ms/step - loss: 0.3731\n",
      "Epoch 79/100\n",
      "6335/6335 [==============================] - 12s 2ms/step - loss: 0.3661\n",
      "Epoch 80/100\n",
      "6335/6335 [==============================] - 12s 2ms/step - loss: 0.3714\n",
      "Epoch 81/100\n",
      "6335/6335 [==============================] - 12s 2ms/step - loss: 0.3726\n",
      "Epoch 82/100\n",
      "6335/6335 [==============================] - 12s 2ms/step - loss: 0.3696\n",
      "Epoch 83/100\n",
      "6335/6335 [==============================] - 12s 2ms/step - loss: 0.3651\n",
      "Epoch 84/100\n",
      "6335/6335 [==============================] - 12s 2ms/step - loss: 0.3660\n",
      "Epoch 85/100\n",
      "6335/6335 [==============================] - 12s 2ms/step - loss: 0.3625\n",
      "Epoch 86/100\n",
      "6335/6335 [==============================] - 12s 2ms/step - loss: 0.3695\n",
      "Epoch 87/100\n",
      "6335/6335 [==============================] - 12s 2ms/step - loss: 0.3786\n",
      "Epoch 88/100\n",
      "6335/6335 [==============================] - 12s 2ms/step - loss: 0.3750\n",
      "Epoch 89/100\n",
      "6335/6335 [==============================] - 12s 2ms/step - loss: 0.3680\n",
      "Epoch 90/100\n",
      "6335/6335 [==============================] - 12s 2ms/step - loss: 0.3636: 1s - loss: 0.364 - E\n",
      "Epoch 91/100\n",
      "6335/6335 [==============================] - 12s 2ms/step - loss: 0.3652\n",
      "Epoch 92/100\n",
      "6335/6335 [==============================] - 12s 2ms/step - loss: 0.3614\n",
      "Epoch 93/100\n",
      "6335/6335 [==============================] - 12s 2ms/step - loss: 0.3692\n",
      "Epoch 94/100\n",
      "6335/6335 [==============================] - 12s 2ms/step - loss: 0.3617\n",
      "Epoch 95/100\n",
      "6335/6335 [==============================] - 11s 2ms/step - loss: 0.3632\n",
      "Epoch 96/100\n",
      "6335/6335 [==============================] - 11s 2ms/step - loss: 0.3611\n",
      "Epoch 97/100\n",
      "6335/6335 [==============================] - 11s 2ms/step - loss: 0.3625\n",
      "Epoch 98/100\n",
      "6335/6335 [==============================] - 11s 2ms/step - loss: 0.3603\n",
      "Epoch 99/100\n",
      "6335/6335 [==============================] - 11s 2ms/step - loss: 0.3631\n",
      "Epoch 100/100\n",
      "6335/6335 [==============================] - 11s 2ms/step - loss: 0.3572\n"
     ]
    },
    {
     "data": {
      "text/plain": [
       "<keras.callbacks.callbacks.History at 0x1cf48d99d48>"
      ]
     },
     "execution_count": 353,
     "metadata": {},
     "output_type": "execute_result"
    }
   ],
   "source": [
    "bi_lstm_glove_model = Sequential()\n",
    "bi_lstm_glove_model.add(Embedding(len(word_index)+1, 100, weights=[embedding_matrix], input_length = input_len))\n",
    "bi_lstm_glove_model.add(Bidirectional(LSTM(100)))\n",
    "bi_lstm_glove_model.add(Dropout(0.1))\n",
    "bi_lstm_glove_model.add(Dense(total_words, activation = 'softmax'))\n",
    "bi_lstm_glove_model.compile(loss = 'categorical_crossentropy', optimizer = 'adam')\n",
    "\n",
    "# Use 100 epoch for efficacy\n",
    "bi_lstm_glove_model.fit(predictors, label, epochs = 100, verbose = 1)"
   ]
  },
  {
   "cell_type": "markdown",
   "metadata": {},
   "source": [
    "# POEM generation function"
   ]
  },
  {
   "cell_type": "code",
   "execution_count": 360,
   "metadata": {},
   "outputs": [],
   "source": [
    "# Function to generate line - based on STOP WORDS at the end of generated sentence. And every sentence should have only 5 words\n",
    "def generate_line(init_text, max_seq_len, num_sen, model):\n",
    "    output_word = ''\n",
    "    num_words = 5  \n",
    "    last_word = 'a'\n",
    "    text = init_text\n",
    "    init_words = nltk.word_tokenize(text)\n",
    "    \n",
    "    while last_word in stop_words:\n",
    "        if num_sen == 0:\n",
    "            num_words = num_words - len(init_words)\n",
    "    \n",
    "        output_text = ''\n",
    "        for j in range(num_words):\n",
    "            token_list = tokenizer.texts_to_sequences([text])[0]\n",
    "            token_list = pad_sequences([token_list], maxlen = max_seq_len - 1, padding = 'pre')\n",
    "            predict = model.predict(token_list, verbose = 0)\n",
    "            predicted=np.argmax(predict,axis=1)\n",
    "\n",
    "            for word, index in tokenizer.word_index.items():\n",
    "                if index == predicted:\n",
    "                    output_word = word\n",
    "                    break\n",
    "\n",
    "            text += ' ' + output_word\n",
    "            if num_sen == 0:\n",
    "                output_text = text\n",
    "            else:       \n",
    "                output_text += ' ' + output_word\n",
    "        words = nltk.word_tokenize(output_text)\n",
    "        last_word = words[-1]\n",
    "        \n",
    "    return output_text  \n",
    "\n",
    "def format_line(text, num_sen, sen):\n",
    "    text = text[:1].upper() + text[1:]\n",
    "    words = nltk.word_tokenize(text)\n",
    "    last_word = words[-1]\n",
    "    if sen != num_sen-1:\n",
    "        if last_word not in stop_words:\n",
    "            text = text + ','\n",
    "    else:\n",
    "        text = text + '.'\n",
    "    return text\n",
    "\n",
    "# Function to generate poem - multiple lines\n",
    "## Arguments (sample text, padding length, number of sentences needed, model)\n",
    "def generate_poem(text, max_seq_len, num_sen, model):\n",
    "    output_sentence = text\n",
    "    output = ''\n",
    "    for sen in range(num_sen):\n",
    "        gen_sent = generate_line(output_sentence, max_seq_len, sen, model)  \n",
    "        sentence = format_line(gen_sent, num_sen, sen)\n",
    "        output_sentence += '' + sentence\n",
    "        print(sentence)\n",
    "        output += sentence\n",
    "        text = output_sentence\n",
    "    return output"
   ]
  },
  {
   "cell_type": "code",
   "execution_count": 361,
   "metadata": {},
   "outputs": [
    {
     "name": "stdout",
     "output_type": "stream",
     "text": [
      "[nltk_data] Downloading package punkt to\n",
      "[nltk_data]     C:\\Users\\abhil\\AppData\\Roaming\\nltk_data...\n",
      "[nltk_data]   Package punkt is already up-to-date!\n"
     ]
    },
    {
     "data": {
      "text/plain": [
       "True"
      ]
     },
     "execution_count": 361,
     "metadata": {},
     "output_type": "execute_result"
    }
   ],
   "source": [
    "import nltk\n",
    "nltk.download('punkt')"
   ]
  },
  {
   "cell_type": "code",
   "execution_count": 362,
   "metadata": {},
   "outputs": [
    {
     "data": {
      "text/plain": [
       "'rock'"
      ]
     },
     "execution_count": 362,
     "metadata": {},
     "output_type": "execute_result"
    }
   ],
   "source": [
    "description"
   ]
  },
  {
   "cell_type": "markdown",
   "metadata": {},
   "source": [
    "# Poem generation"
   ]
  },
  {
   "cell_type": "markdown",
   "metadata": {},
   "source": [
    "# Vanilla RNN - Simple word embedding model"
   ]
  },
  {
   "cell_type": "code",
   "execution_count": 363,
   "metadata": {},
   "outputs": [
    {
     "name": "stdout",
     "output_type": "stream",
     "text": [
      "Rock thus a reason s a fool lost,\n",
      " flame two of state waste,\n",
      " not thine eye not shut,\n",
      " sixth circle heresiarchs farinata degli,\n",
      " flicker of songs smiled wawes.\n"
     ]
    }
   ],
   "source": [
    "## Arguments - (sample text, padding length, number of sentences needed, model)\n",
    "gen_text_rnn = generate_poem(description, max_seq_len, 5, rnn_model)"
   ]
  },
  {
   "cell_type": "markdown",
   "metadata": {},
   "source": [
    "# LSTM - Simple word embedding model"
   ]
  },
  {
   "cell_type": "code",
   "execution_count": 364,
   "metadata": {},
   "outputs": [
    {
     "name": "stdout",
     "output_type": "stream",
     "text": [
      "Rock by the deed shall,\n",
      " gain a glorious prize thy,\n",
      " honour spread feet an apparition,\n",
      " wilder llevará thence incense fun,\n",
      " incense apparition wilder perchance heart.\n"
     ]
    }
   ],
   "source": [
    "## Arguments - (sample text, padding length, number of sentences needed, model)\n",
    "# gen_text_lstm = generate_poem(\"Love to\", max_seq_len, 5, lstm_model)\n",
    "gen_text_lstm = generate_poem(description, max_seq_len, 5, lstm_model)"
   ]
  },
  {
   "cell_type": "markdown",
   "metadata": {},
   "source": [
    "# Bidirectional LSTM - Simple word embedding model"
   ]
  },
  {
   "cell_type": "code",
   "execution_count": 365,
   "metadata": {},
   "outputs": [
    {
     "name": "stdout",
     "output_type": "stream",
     "text": [
      "Rock ve i ween the helpless prize stane,\n",
      " us to the first glimpse,\n",
      " of worse worse roses sign,\n",
      " distant worse and you incense,\n",
      " roses then to me thy.\n"
     ]
    }
   ],
   "source": [
    "## Arguments - (sample text, padding length, number of sentences needed, model)\n",
    "# gen_text_bilstm = generate_poem(\"Love to\", max_seq_len, 5, bi_lstm_model)\n",
    "gen_text_bilstm = generate_poem(description, max_seq_len, 5, bi_lstm_model)"
   ]
  },
  {
   "cell_type": "markdown",
   "metadata": {},
   "source": [
    "# Vanilla RNN - Glove embedding model"
   ]
  },
  {
   "cell_type": "code",
   "execution_count": 366,
   "metadata": {},
   "outputs": [
    {
     "name": "stdout",
     "output_type": "stream",
     "text": [
      "Rock upon the summit on the frozen ground,\n",
      " devil to give the cruel,\n",
      " this i held myself secure,\n",
      " flight with little crimson feet,\n",
      " kindred hours for me thy.\n"
     ]
    }
   ],
   "source": [
    "## Arguments - (sample text, padding length, number of sentences needed, model)\n",
    "# gen_text_rnn_glove = generate_poem(\"Love to\", max_seq_len, 5, rnn_glove_model)\n",
    "gen_text_rnn_glove = generate_poem(description, max_seq_len, 5, rnn_glove_model)"
   ]
  },
  {
   "cell_type": "markdown",
   "metadata": {},
   "source": [
    "# LSTM - Glove embedding model"
   ]
  },
  {
   "cell_type": "code",
   "execution_count": 367,
   "metadata": {},
   "outputs": [
    {
     "name": "stdout",
     "output_type": "stream",
     "text": [
      "Rock upon the threshold of my door and i i mourned,\n",
      " my work undone with flame,\n",
      " i admire loathe them many,\n",
      " a mighty land hath made,\n",
      " day may at here thy.\n"
     ]
    }
   ],
   "source": [
    "## Arguments - (sample text, padding length, number of sentences needed, model)\n",
    "gen_text_lstm_glove = generate_poem(description, max_seq_len, 5, lstm_glove_model)"
   ]
  },
  {
   "cell_type": "markdown",
   "metadata": {},
   "source": [
    "# Bi Directional LSTM - Glove embedding model"
   ]
  },
  {
   "cell_type": "code",
   "execution_count": 368,
   "metadata": {},
   "outputs": [
    {
     "name": "stdout",
     "output_type": "stream",
     "text": [
      "Rock the friendless worm drew,\n",
      " near she beheld a single,\n",
      " say ye how i shake,\n",
      " crack in some fair windows,\n",
      " and us and truth us.\n"
     ]
    }
   ],
   "source": [
    "## Arguments - (sample text, padding length, number of sentences needed, model)\n",
    "# Sweet life, There he sang\n",
    "gen_text_bilstm_glove = generate_poem(description, max_seq_len, 5, bi_lstm_glove_model)"
   ]
  },
  {
   "cell_type": "markdown",
   "metadata": {},
   "source": [
    "# Evaluate - Probability"
   ]
  },
  {
   "cell_type": "code",
   "execution_count": 369,
   "metadata": {},
   "outputs": [],
   "source": [
    "from lm_scorer.models.auto import AutoLMScorer\n",
    "scorer = AutoLMScorer.from_pretrained(\"gpt2-large\")\n",
    "\n",
    "def prob_score(sentence):\n",
    "    return scorer.sentence_score(sentence, reduce='mean')"
   ]
  },
  {
   "cell_type": "code",
   "execution_count": 370,
   "metadata": {},
   "outputs": [
    {
     "name": "stdout",
     "output_type": "stream",
     "text": [
      "Vanilla RNN - tokenized data Model text\n",
      "Rock thus a reason s a fool lost, flame two of state waste, not thine eye not shut, sixth circle heresiarchs farinata degli, flicker of songs smiled wawes.\n",
      "0.019092347472906113\n"
     ]
    }
   ],
   "source": [
    "print('Vanilla RNN - tokenized data Model text')\n",
    "print(gen_text_rnn)\n",
    "print(prob_score(gen_text_rnn))"
   ]
  },
  {
   "cell_type": "code",
   "execution_count": 371,
   "metadata": {},
   "outputs": [
    {
     "name": "stdout",
     "output_type": "stream",
     "text": [
      "LSTM - tokenized data Model text\n",
      "Rock by the deed shall, gain a glorious prize thy, honour spread feet an apparition, wilder llevará thence incense fun, incense apparition wilder perchance heart.\n",
      "0.09867318719625473\n"
     ]
    }
   ],
   "source": [
    "print('LSTM - tokenized data Model text')\n",
    "print(gen_text_lstm)\n",
    "print(prob_score(gen_text_lstm))"
   ]
  },
  {
   "cell_type": "code",
   "execution_count": 372,
   "metadata": {},
   "outputs": [
    {
     "name": "stdout",
     "output_type": "stream",
     "text": [
      "BiLSTM - tokenized data Model text\n",
      "Rock ve i ween the helpless prize stane, us to the first glimpse, of worse worse roses sign, distant worse and you incense, roses then to me thy.\n",
      "0.01826399192214012\n"
     ]
    }
   ],
   "source": [
    "print('BiLSTM - tokenized data Model text')\n",
    "print(gen_text_bilstm)\n",
    "print(prob_score(gen_text_bilstm))"
   ]
  },
  {
   "cell_type": "code",
   "execution_count": 373,
   "metadata": {},
   "outputs": [
    {
     "name": "stdout",
     "output_type": "stream",
     "text": [
      "Vanilla RNN - glove embedding Model text\n",
      "Rock upon the summit on the frozen ground, devil to give the cruel, this i held myself secure, flight with little crimson feet, kindred hours for me thy.\n",
      "0.045714814215898514\n"
     ]
    }
   ],
   "source": [
    "print('Vanilla RNN - glove embedding Model text')\n",
    "print(gen_text_rnn_glove)\n",
    "print(prob_score(gen_text_rnn_glove))"
   ]
  },
  {
   "cell_type": "code",
   "execution_count": 374,
   "metadata": {},
   "outputs": [
    {
     "name": "stdout",
     "output_type": "stream",
     "text": [
      "LSTM - glove embedding Model text\n",
      "Rock upon the threshold of my door and i i mourned, my work undone with flame, i admire loathe them many, a mighty land hath made, day may at here thy.\n",
      "0.03082793951034546\n"
     ]
    }
   ],
   "source": [
    "print('LSTM - glove embedding Model text')\n",
    "print(gen_text_lstm_glove)\n",
    "print(prob_score(gen_text_lstm_glove))"
   ]
  },
  {
   "cell_type": "code",
   "execution_count": 375,
   "metadata": {},
   "outputs": [
    {
     "name": "stdout",
     "output_type": "stream",
     "text": [
      "Bidirectional LSTM - glove embedding Model text\n",
      "Rock the friendless worm drew, near she beheld a single, say ye how i shake, crack in some fair windows, and us and truth us.\n",
      "0.04528085142374039\n"
     ]
    }
   ],
   "source": [
    "print('Bidirectional LSTM - glove embedding Model text')\n",
    "print(gen_text_bilstm_glove)\n",
    "print(prob_score(gen_text_bilstm_glove))"
   ]
  },
  {
   "cell_type": "markdown",
   "metadata": {},
   "source": [
    "# Evaluate - Perplexity"
   ]
  },
  {
   "cell_type": "code",
   "execution_count": 376,
   "metadata": {},
   "outputs": [],
   "source": [
    "import math\n",
    "import torch\n",
    "from pytorch_pretrained_bert import OpenAIGPTTokenizer, OpenAIGPTModel, OpenAIGPTLMHeadModel"
   ]
  },
  {
   "cell_type": "code",
   "execution_count": 377,
   "metadata": {},
   "outputs": [
    {
     "name": "stderr",
     "output_type": "stream",
     "text": [
      "ftfy or spacy is not installed using BERT BasicTokenizer instead of SpaCy & ftfy.\n"
     ]
    }
   ],
   "source": [
    "# Load pre-trained model (weights)\n",
    "gpt_model = OpenAIGPTLMHeadModel.from_pretrained('openai-gpt')\n",
    "gpt_model.eval()\n",
    "# Load pre-trained model tokenizer (vocabulary)\n",
    "gpt_tokenizer = OpenAIGPTTokenizer.from_pretrained('openai-gpt')"
   ]
  },
  {
   "cell_type": "code",
   "execution_count": 378,
   "metadata": {},
   "outputs": [],
   "source": [
    "def ppl_score(sentence):\n",
    "    tokenize_input = gpt_tokenizer.tokenize(sentence)\n",
    "    tensor_input = torch.tensor([gpt_tokenizer.convert_tokens_to_ids(tokenize_input)])\n",
    "    loss = gpt_model(tensor_input, lm_labels=tensor_input)\n",
    "    return math.exp(loss)"
   ]
  },
  {
   "cell_type": "code",
   "execution_count": 379,
   "metadata": {},
   "outputs": [
    {
     "name": "stdout",
     "output_type": "stream",
     "text": [
      "Vanilla RNN - tokenized data Model text\n",
      "Rock thus a reason s a fool lost, flame two of state waste, not thine eye not shut, sixth circle heresiarchs farinata degli, flicker of songs smiled wawes.\n",
      "2487.9404764772253\n"
     ]
    }
   ],
   "source": [
    "print('Vanilla RNN - tokenized data Model text')\n",
    "print(gen_text_rnn)\n",
    "print(ppl_score(gen_text_rnn))"
   ]
  },
  {
   "cell_type": "code",
   "execution_count": 380,
   "metadata": {},
   "outputs": [
    {
     "name": "stdout",
     "output_type": "stream",
     "text": [
      "LSTM - tokenized data Model text\n",
      "Rock by the deed shall, gain a glorious prize thy, honour spread feet an apparition, wilder llevará thence incense fun, incense apparition wilder perchance heart.\n",
      "2980.2686724577184\n"
     ]
    }
   ],
   "source": [
    "print('LSTM - tokenized data Model text')\n",
    "print(gen_text_lstm)\n",
    "print(ppl_score(gen_text_lstm))"
   ]
  },
  {
   "cell_type": "code",
   "execution_count": 381,
   "metadata": {},
   "outputs": [
    {
     "name": "stdout",
     "output_type": "stream",
     "text": [
      "BiLSTM - tokenized data Model text\n",
      "Rock ve i ween the helpless prize stane, us to the first glimpse, of worse worse roses sign, distant worse and you incense, roses then to me thy.\n",
      "1512.0719378872482\n"
     ]
    }
   ],
   "source": [
    "print('BiLSTM - tokenized data Model text')\n",
    "print(gen_text_bilstm)\n",
    "print(ppl_score(gen_text_bilstm))"
   ]
  },
  {
   "cell_type": "code",
   "execution_count": 382,
   "metadata": {},
   "outputs": [
    {
     "name": "stdout",
     "output_type": "stream",
     "text": [
      "Vanilla RNN - glove embedding Model text\n",
      "Rock upon the summit on the frozen ground, devil to give the cruel, this i held myself secure, flight with little crimson feet, kindred hours for me thy.\n",
      "662.3119039411733\n"
     ]
    }
   ],
   "source": [
    "print('Vanilla RNN - glove embedding Model text')\n",
    "print(gen_text_rnn_glove)\n",
    "print(ppl_score(gen_text_rnn_glove))"
   ]
  },
  {
   "cell_type": "code",
   "execution_count": 383,
   "metadata": {},
   "outputs": [
    {
     "name": "stdout",
     "output_type": "stream",
     "text": [
      "LSTM - glove embedding Model text\n",
      "Rock upon the threshold of my door and i i mourned, my work undone with flame, i admire loathe them many, a mighty land hath made, day may at here thy.\n",
      "636.3113577296851\n"
     ]
    }
   ],
   "source": [
    "print('LSTM - glove embedding Model text')\n",
    "print(gen_text_lstm_glove)\n",
    "print(ppl_score(gen_text_lstm_glove))"
   ]
  },
  {
   "cell_type": "code",
   "execution_count": 384,
   "metadata": {},
   "outputs": [
    {
     "name": "stdout",
     "output_type": "stream",
     "text": [
      "Bidirectional LSTM - glove embedding Model text\n",
      "Rock the friendless worm drew, near she beheld a single, say ye how i shake, crack in some fair windows, and us and truth us.\n",
      "853.041658509044\n"
     ]
    }
   ],
   "source": [
    "print('Bidirectional LSTM - glove embedding Model text')\n",
    "print(gen_text_bilstm_glove)\n",
    "print(ppl_score(gen_text_bilstm_glove))"
   ]
  },
  {
   "cell_type": "code",
   "execution_count": null,
   "metadata": {},
   "outputs": [],
   "source": []
  },
  {
   "cell_type": "code",
   "execution_count": null,
   "metadata": {},
   "outputs": [],
   "source": []
  }
 ],
 "metadata": {
  "kernelspec": {
   "display_name": "Python 3",
   "language": "python",
   "name": "python3"
  },
  "language_info": {
   "codemirror_mode": {
    "name": "ipython",
    "version": 3
   },
   "file_extension": ".py",
   "mimetype": "text/x-python",
   "name": "python",
   "nbconvert_exporter": "python",
   "pygments_lexer": "ipython3",
   "version": "3.7.9"
  }
 },
 "nbformat": 4,
 "nbformat_minor": 4
}
